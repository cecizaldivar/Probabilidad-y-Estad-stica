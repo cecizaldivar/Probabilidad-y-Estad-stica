{
  "nbformat": 4,
  "nbformat_minor": 0,
  "metadata": {
    "colab": {
      "provenance": []
    },
    "kernelspec": {
      "name": "python3",
      "display_name": "Python 3"
    },
    "language_info": {
      "name": "python"
    }
  },
  "cells": [
    {
      "cell_type": "code",
      "execution_count": null,
      "metadata": {
        "id": "SPjYyHRRC8gI"
      },
      "outputs": [],
      "source": []
    },
    {
      "cell_type": "markdown",
      "source": [
        "#Estadistica Inferencial (Machine Learning)\n",
        "Inferir medidas asociados a un conjunto de datos, lo que nos lleva hacer un analisis de datos \n",
        "\n",
        "Esto nos lleva a construir modelos estadisticos \n",
        "- Nos sirven para predecir comportamientos, lo cual nos sirve para la toma de decisiones \n",
        "\n",
        "\n",
        "*Idea General* \n",
        "- A una población se le puede obtener: medidas estadisticas \n",
        "- Obtienes una muestra aleatoria para poder entender de una manera mas detallada el comportamiento de una población (a veces el comportamiento de una población no se puede determinar)\n",
        "\n",
        "Representación de la población que se elige al azar bajo condiciones idénticas \n",
        "\n",
        "Represetación gráfica:\n",
        "- Boxplot\n",
        "- Histogramas \n",
        "- Pie \n",
        "- Barras \n",
        "- Dispersión\n",
        "\n",
        "Forma de muestra: Curva (o función continua) que represente a la forma de estos datos "
      ],
      "metadata": {
        "id": "DV-5_TieC9LY"
      }
    },
    {
      "cell_type": "markdown",
      "source": [
        "#Formula de Valles \n",
        "Dos eventos A & B -"
      ],
      "metadata": {
        "id": "nezapjniIM3V"
      }
    }
  ]
}