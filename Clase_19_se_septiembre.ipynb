{
  "nbformat": 4,
  "nbformat_minor": 0,
  "metadata": {
    "colab": {
      "provenance": []
    },
    "kernelspec": {
      "name": "python3",
      "display_name": "Python 3"
    },
    "language_info": {
      "name": "python"
    }
  },
  "cells": [
    {
      "cell_type": "markdown",
      "source": [
        "# Lectura de datos \n",
        "## Base de datos: Alumnos, agrupa y codifica estructuras de datos \n",
        "\n",
        "### Información: \n",
        "- Númerca \n",
        "- Objetos \n",
        "- Etiquetas \n",
        "\n",
        "### Búsqueda de información (Fuentes): \n",
        "- Wikipedia \n",
        "- Kaggle \n",
        "- INEGI \n",
        "\n",
        "### Excel, csv, textos (.xlxs,.csv, .txt) "
      ],
      "metadata": {
        "id": "QDw5P9k9npN6"
      }
    },
    {
      "cell_type": "code",
      "execution_count": null,
      "metadata": {
        "id": "NCuDTIE8nom-"
      },
      "outputs": [],
      "source": []
    }
  ]
}