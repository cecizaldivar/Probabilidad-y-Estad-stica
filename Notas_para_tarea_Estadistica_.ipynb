{
  "nbformat": 4,
  "nbformat_minor": 0,
  "metadata": {
    "colab": {
      "provenance": []
    },
    "kernelspec": {
      "name": "python3",
      "display_name": "Python 3"
    },
    "language_info": {
      "name": "python"
    }
  },
  "cells": [
    {
      "cell_type": "markdown",
      "source": [
        "Algunos archivos que se pueden leer a través de pandas: - read_table() - read_csv() - read_html() - read_json() - read_pickle() - read_excel() - tipo web (la instrucción es distinta)."
      ],
      "metadata": {
        "id": "UJXbamV7SKD5"
      }
    },
    {
      "cell_type": "markdown",
      "source": [
        "#Métodos .info()\n",
        "\n",
        "Permite obtener la imformación básica de nuestra base de datos "
      ],
      "metadata": {
        "id": "tAsQ1UC-SOLG"
      }
    },
    {
      "cell_type": "markdown",
      "source": [
        "#Método .shape \n",
        "\n",
        "Arroja el tamaño de la base de datos vista como matriz "
      ],
      "metadata": {
        "id": "xsLGTa-pTOGx"
      }
    },
    {
      "cell_type": "markdown",
      "source": [
        "#Método .describe()\n",
        "\n",
        "Arroja un *summary* estadístico-descriptivo de los atributos numéricos "
      ],
      "metadata": {
        "id": "cQ0q1BIvT7DW"
      }
    },
    {
      "cell_type": "markdown",
      "source": [
        "#Selección usando renglones: Métodos .iloc y .loc \n",
        "\n",
        "- *.loc* localiza reglones por nombre \n",
        "- *.iloc* localiza renglones por índices "
      ],
      "metadata": {
        "id": "a98SkgmlULOV"
      }
    },
    {
      "cell_type": "markdown",
      "source": [
        "#Método .groupy ()\n",
        "\n",
        "Agrupamiento de datos "
      ],
      "metadata": {
        "id": "oYbCk124U4OJ"
      }
    },
    {
      "cell_type": "markdown",
      "source": [
        "#Datos perdidos .isnull()\n",
        "\n"
      ],
      "metadata": {
        "id": "lGLFaV1WU6OR"
      }
    },
    {
      "cell_type": "markdown",
      "source": [
        "Podemos quitar columnas de una base de datos: método .drop()\n",
        "\n"
      ],
      "metadata": {
        "id": "qd4cXXZPVOri"
      }
    },
    {
      "cell_type": "markdown",
      "source": [
        "#Crear un índice \n",
        "\n",
        "1) Crear una definición para clasificar "
      ],
      "metadata": {
        "id": "M75EJNFbVdcd"
      }
    },
    {
      "cell_type": "markdown",
      "source": [
        "El método .apply() es útil cuando se requiere aplicar una función al conjunto de datos "
      ],
      "metadata": {
        "id": "e6677kdLVp5t"
      }
    }
  ]
}