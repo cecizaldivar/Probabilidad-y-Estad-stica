{
  "nbformat": 4,
  "nbformat_minor": 0,
  "metadata": {
    "colab": {
      "provenance": []
    },
    "kernelspec": {
      "name": "python3",
      "display_name": "Python 3"
    },
    "language_info": {
      "name": "python"
    }
  },
  "cells": [
    {
      "cell_type": "markdown",
      "source": [
        "## Examen: Probabilidad y estadística de datos \n",
        "\n",
        "#### Cecilia Zaldívar Díaz       \n",
        "####ID: 0221078"
      ],
      "metadata": {
        "id": "pjhfonAC7sOT"
      }
    },
    {
      "cell_type": "markdown",
      "source": [
        "##### 1.- En un salón de clases hay 60 alumnos. 30 de los alumnos estudian francés, 35 estudian ruso y 5 estudian francés y ruso. Dibuja un diagrama de Venn y calcula la probabilidad de que si se elige un estudiante al azar, éste estudie solamente francés."
      ],
      "metadata": {
        "id": "fRwCNis68MXY"
      }
    },
    {
      "cell_type": "code",
      "execution_count": null,
      "metadata": {
        "id": "nXAJ2A2o6wR8"
      },
      "outputs": [],
      "source": [
        "from matplotlib_venn import venn2, venn3_circles, venn2_unweighted\n",
        "from matplotlib_venn import venn3, venn3_circles \n",
        "from matplotlib import pyplot as plt"
      ]
    },
    {
      "cell_type": "code",
      "source": [
        "venn2(subsets=(25,30,5),set_labels=('Francés','Alemán'))"
      ],
      "metadata": {
        "colab": {
          "base_uri": "https://localhost:8080/",
          "height": 265
        },
        "id": "QoHKkKnJS0kZ",
        "outputId": "d48d597a-e31b-4660-8642-4bb4c6242db9"
      },
      "execution_count": null,
      "outputs": [
        {
          "output_type": "execute_result",
          "data": {
            "text/plain": [
              "<matplotlib_venn._common.VennDiagram at 0x7f6a1242b450>"
            ]
          },
          "metadata": {},
          "execution_count": 2
        },
        {
          "output_type": "display_data",
          "data": {
            "text/plain": [
              "<Figure size 432x288 with 1 Axes>"
            ],
            "image/png": "[encoded data removed]"
          },
          "metadata": {}
        }
      ]
    },
    {
      "cell_type": "code",
      "source": [
        "Frances = 25/60\n",
        "Frances"
      ],
      "metadata": {
        "colab": {
          "base_uri": "https://localhost:8080/"
        },
        "id": "AuEQMH54TNRt",
        "outputId": "64001d4d-3b7b-4ccb-fd55-0e613f5ec526"
      },
      "execution_count": null,
      "outputs": [
        {
          "output_type": "execute_result",
          "data": {
            "text/plain": [
              "0.4166666666666667"
            ]
          },
          "metadata": {},
          "execution_count": 104
        }
      ]
    },
    {
      "cell_type": "markdown",
      "source": [
        "###### 2.- Se lanza un dado 3 veces.\n",
        "#####Describe al espacio muestral.\n",
        "\n",
        "#####Calcula la probabilidad de que salga la cara 1 en el primer lanzamiento.\n",
        "\n",
        "#####Calcula la probabilidad condicional del evento cae un número par en los tres lanzamientos dado que en el primer lanzamiento cae 2.\n",
        "\n",
        "#####Consideremos el evento: \"se obtiene sol en el segundo lanzamiento\". ¿Tal evento es independiente de los eventos anteriores?\n"
      ],
      "metadata": {
        "id": "j25AyeQV8S7v"
      }
    },
    {
      "cell_type": "code",
      "source": [
        "from itertools import product "
      ],
      "metadata": {
        "id": "Y7aHzG-X9pUa"
      },
      "execution_count": null,
      "outputs": []
    },
    {
      "cell_type": "code",
      "source": [
        "Omega = set(product([1,2,3,4,5,6], repeat = 3))\n",
        "Omega "
      ],
      "metadata": {
        "colab": {
          "base_uri": "https://localhost:8080/"
        },
        "id": "CHfkzbTuA2tk",
        "outputId": "81fcbb97-c650-467d-9c5f-748efdcbe524"
      },
      "execution_count": null,
      "outputs": [
        {
          "output_type": "execute_result",
          "data": {
            "text/plain": [
              "{(1, 1, 1),\n",
              " (1, 1, 2),\n",
              " (1, 1, 3),\n",
              " (1, 1, 4),\n",
              " (1, 1, 5),\n",
              " (1, 1, 6),\n",
              " (1, 2, 1),\n",
              " (1, 2, 2),\n",
              " (1, 2, 3),\n",
              " (1, 2, 4),\n",
              " (1, 2, 5),\n",
              " (1, 2, 6),\n",
              " (1, 3, 1),\n",
              " (1, 3, 2),\n",
              " (1, 3, 3),\n",
              " (1, 3, 4),\n",
              " (1, 3, 5),\n",
              " (1, 3, 6),\n",
              " (1, 4, 1),\n",
              " (1, 4, 2),\n",
              " (1, 4, 3),\n",
              " (1, 4, 4),\n",
              " (1, 4, 5),\n",
              " (1, 4, 6),\n",
              " (1, 5, 1),\n",
              " (1, 5, 2),\n",
              " (1, 5, 3),\n",
              " (1, 5, 4),\n",
              " (1, 5, 5),\n",
              " (1, 5, 6),\n",
              " (1, 6, 1),\n",
              " (1, 6, 2),\n",
              " (1, 6, 3),\n",
              " (1, 6, 4),\n",
              " (1, 6, 5),\n",
              " (1, 6, 6),\n",
              " (2, 1, 1),\n",
              " (2, 1, 2),\n",
              " (2, 1, 3),\n",
              " (2, 1, 4),\n",
              " (2, 1, 5),\n",
              " (2, 1, 6),\n",
              " (2, 2, 1),\n",
              " (2, 2, 2),\n",
              " (2, 2, 3),\n",
              " (2, 2, 4),\n",
              " (2, 2, 5),\n",
              " (2, 2, 6),\n",
              " (2, 3, 1),\n",
              " (2, 3, 2),\n",
              " (2, 3, 3),\n",
              " (2, 3, 4),\n",
              " (2, 3, 5),\n",
              " (2, 3, 6),\n",
              " (2, 4, 1),\n",
              " (2, 4, 2),\n",
              " (2, 4, 3),\n",
              " (2, 4, 4),\n",
              " (2, 4, 5),\n",
              " (2, 4, 6),\n",
              " (2, 5, 1),\n",
              " (2, 5, 2),\n",
              " (2, 5, 3),\n",
              " (2, 5, 4),\n",
              " (2, 5, 5),\n",
              " (2, 5, 6),\n",
              " (2, 6, 1),\n",
              " (2, 6, 2),\n",
              " (2, 6, 3),\n",
              " (2, 6, 4),\n",
              " (2, 6, 5),\n",
              " (2, 6, 6),\n",
              " (3, 1, 1),\n",
              " (3, 1, 2),\n",
              " (3, 1, 3),\n",
              " (3, 1, 4),\n",
              " (3, 1, 5),\n",
              " (3, 1, 6),\n",
              " (3, 2, 1),\n",
              " (3, 2, 2),\n",
              " (3, 2, 3),\n",
              " (3, 2, 4),\n",
              " (3, 2, 5),\n",
              " (3, 2, 6),\n",
              " (3, 3, 1),\n",
              " (3, 3, 2),\n",
              " (3, 3, 3),\n",
              " (3, 3, 4),\n",
              " (3, 3, 5),\n",
              " (3, 3, 6),\n",
              " (3, 4, 1),\n",
              " (3, 4, 2),\n",
              " (3, 4, 3),\n",
              " (3, 4, 4),\n",
              " (3, 4, 5),\n",
              " (3, 4, 6),\n",
              " (3, 5, 1),\n",
              " (3, 5, 2),\n",
              " (3, 5, 3),\n",
              " (3, 5, 4),\n",
              " (3, 5, 5),\n",
              " (3, 5, 6),\n",
              " (3, 6, 1),\n",
              " (3, 6, 2),\n",
              " (3, 6, 3),\n",
              " (3, 6, 4),\n",
              " (3, 6, 5),\n",
              " (3, 6, 6),\n",
              " (4, 1, 1),\n",
              " (4, 1, 2),\n",
              " (4, 1, 3),\n",
              " (4, 1, 4),\n",
              " (4, 1, 5),\n",
              " (4, 1, 6),\n",
              " (4, 2, 1),\n",
              " (4, 2, 2),\n",
              " (4, 2, 3),\n",
              " (4, 2, 4),\n",
              " (4, 2, 5),\n",
              " (4, 2, 6),\n",
              " (4, 3, 1),\n",
              " (4, 3, 2),\n",
              " (4, 3, 3),\n",
              " (4, 3, 4),\n",
              " (4, 3, 5),\n",
              " (4, 3, 6),\n",
              " (4, 4, 1),\n",
              " (4, 4, 2),\n",
              " (4, 4, 3),\n",
              " (4, 4, 4),\n",
              " (4, 4, 5),\n",
              " (4, 4, 6),\n",
              " (4, 5, 1),\n",
              " (4, 5, 2),\n",
              " (4, 5, 3),\n",
              " (4, 5, 4),\n",
              " (4, 5, 5),\n",
              " (4, 5, 6),\n",
              " (4, 6, 1),\n",
              " (4, 6, 2),\n",
              " (4, 6, 3),\n",
              " (4, 6, 4),\n",
              " (4, 6, 5),\n",
              " (4, 6, 6),\n",
              " (5, 1, 1),\n",
              " (5, 1, 2),\n",
              " (5, 1, 3),\n",
              " (5, 1, 4),\n",
              " (5, 1, 5),\n",
              " (5, 1, 6),\n",
              " (5, 2, 1),\n",
              " (5, 2, 2),\n",
              " (5, 2, 3),\n",
              " (5, 2, 4),\n",
              " (5, 2, 5),\n",
              " (5, 2, 6),\n",
              " (5, 3, 1),\n",
              " (5, 3, 2),\n",
              " (5, 3, 3),\n",
              " (5, 3, 4),\n",
              " (5, 3, 5),\n",
              " (5, 3, 6),\n",
              " (5, 4, 1),\n",
              " (5, 4, 2),\n",
              " (5, 4, 3),\n",
              " (5, 4, 4),\n",
              " (5, 4, 5),\n",
              " (5, 4, 6),\n",
              " (5, 5, 1),\n",
              " (5, 5, 2),\n",
              " (5, 5, 3),\n",
              " (5, 5, 4),\n",
              " (5, 5, 5),\n",
              " (5, 5, 6),\n",
              " (5, 6, 1),\n",
              " (5, 6, 2),\n",
              " (5, 6, 3),\n",
              " (5, 6, 4),\n",
              " (5, 6, 5),\n",
              " (5, 6, 6),\n",
              " (6, 1, 1),\n",
              " (6, 1, 2),\n",
              " (6, 1, 3),\n",
              " (6, 1, 4),\n",
              " (6, 1, 5),\n",
              " (6, 1, 6),\n",
              " (6, 2, 1),\n",
              " (6, 2, 2),\n",
              " (6, 2, 3),\n",
              " (6, 2, 4),\n",
              " (6, 2, 5),\n",
              " (6, 2, 6),\n",
              " (6, 3, 1),\n",
              " (6, 3, 2),\n",
              " (6, 3, 3),\n",
              " (6, 3, 4),\n",
              " (6, 3, 5),\n",
              " (6, 3, 6),\n",
              " (6, 4, 1),\n",
              " (6, 4, 2),\n",
              " (6, 4, 3),\n",
              " (6, 4, 4),\n",
              " (6, 4, 5),\n",
              " (6, 4, 6),\n",
              " (6, 5, 1),\n",
              " (6, 5, 2),\n",
              " (6, 5, 3),\n",
              " (6, 5, 4),\n",
              " (6, 5, 5),\n",
              " (6, 5, 6),\n",
              " (6, 6, 1),\n",
              " (6, 6, 2),\n",
              " (6, 6, 3),\n",
              " (6, 6, 4),\n",
              " (6, 6, 5),\n",
              " (6, 6, 6)}"
            ]
          },
          "metadata": {},
          "execution_count": 107
        }
      ]
    },
    {
      "cell_type": "code",
      "source": [
        "len(Omega)"
      ],
      "metadata": {
        "colab": {
          "base_uri": "https://localhost:8080/"
        },
        "id": "EILj5ARuUM2w",
        "outputId": "47b2095b-027f-448a-bb69-c0f5577b0dff"
      },
      "execution_count": null,
      "outputs": [
        {
          "output_type": "execute_result",
          "data": {
            "text/plain": [
              "216"
            ]
          },
          "metadata": {},
          "execution_count": 108
        }
      ]
    },
    {
      "cell_type": "code",
      "source": [
        "A = {om for om in Omega if om[0]== 1}\n",
        "A"
      ],
      "metadata": {
        "colab": {
          "base_uri": "https://localhost:8080/"
        },
        "id": "6E-QiDYMUbhD",
        "outputId": "fd9e471a-b60b-4fde-9207-5e48efee6653"
      },
      "execution_count": null,
      "outputs": [
        {
          "output_type": "execute_result",
          "data": {
            "text/plain": [
              "{(1, 1, 1),\n",
              " (1, 1, 2),\n",
              " (1, 1, 3),\n",
              " (1, 1, 4),\n",
              " (1, 1, 5),\n",
              " (1, 1, 6),\n",
              " (1, 2, 1),\n",
              " (1, 2, 2),\n",
              " (1, 2, 3),\n",
              " (1, 2, 4),\n",
              " (1, 2, 5),\n",
              " (1, 2, 6),\n",
              " (1, 3, 1),\n",
              " (1, 3, 2),\n",
              " (1, 3, 3),\n",
              " (1, 3, 4),\n",
              " (1, 3, 5),\n",
              " (1, 3, 6),\n",
              " (1, 4, 1),\n",
              " (1, 4, 2),\n",
              " (1, 4, 3),\n",
              " (1, 4, 4),\n",
              " (1, 4, 5),\n",
              " (1, 4, 6),\n",
              " (1, 5, 1),\n",
              " (1, 5, 2),\n",
              " (1, 5, 3),\n",
              " (1, 5, 4),\n",
              " (1, 5, 5),\n",
              " (1, 5, 6),\n",
              " (1, 6, 1),\n",
              " (1, 6, 2),\n",
              " (1, 6, 3),\n",
              " (1, 6, 4),\n",
              " (1, 6, 5),\n",
              " (1, 6, 6)}"
            ]
          },
          "metadata": {},
          "execution_count": 109
        }
      ]
    },
    {
      "cell_type": "code",
      "source": [
        "len(A)"
      ],
      "metadata": {
        "colab": {
          "base_uri": "https://localhost:8080/"
        },
        "id": "eIX7YaiiVE_J",
        "outputId": "1a3b859a-bbce-4a66-bb0c-0ee1c888c20a"
      },
      "execution_count": null,
      "outputs": [
        {
          "output_type": "execute_result",
          "data": {
            "text/plain": [
              "36"
            ]
          },
          "metadata": {},
          "execution_count": 110
        }
      ]
    },
    {
      "cell_type": "code",
      "source": [
        "PA = len(A)/len(Omega)\n",
        "PA"
      ],
      "metadata": {
        "colab": {
          "base_uri": "https://localhost:8080/"
        },
        "id": "BEkkR4SrVIeq",
        "outputId": "ab9eaf8d-50f9-4d79-8721-69aa5775c52b"
      },
      "execution_count": null,
      "outputs": [
        {
          "output_type": "execute_result",
          "data": {
            "text/plain": [
              "0.16666666666666666"
            ]
          },
          "metadata": {},
          "execution_count": 111
        }
      ]
    },
    {
      "cell_type": "code",
      "source": [
        "B = {om for om in Omega if om[0]== 2}\n",
        "B"
      ],
      "metadata": {
        "colab": {
          "base_uri": "https://localhost:8080/"
        },
        "id": "SChnMlBRWz7q",
        "outputId": "d214d9aa-ad4f-421c-9f97-4a4bb7e08b1a"
      },
      "execution_count": null,
      "outputs": [
        {
          "output_type": "execute_result",
          "data": {
            "text/plain": [
              "{(2, 1, 1),\n",
              " (2, 1, 2),\n",
              " (2, 1, 3),\n",
              " (2, 1, 4),\n",
              " (2, 1, 5),\n",
              " (2, 1, 6),\n",
              " (2, 2, 1),\n",
              " (2, 2, 2),\n",
              " (2, 2, 3),\n",
              " (2, 2, 4),\n",
              " (2, 2, 5),\n",
              " (2, 2, 6),\n",
              " (2, 3, 1),\n",
              " (2, 3, 2),\n",
              " (2, 3, 3),\n",
              " (2, 3, 4),\n",
              " (2, 3, 5),\n",
              " (2, 3, 6),\n",
              " (2, 4, 1),\n",
              " (2, 4, 2),\n",
              " (2, 4, 3),\n",
              " (2, 4, 4),\n",
              " (2, 4, 5),\n",
              " (2, 4, 6),\n",
              " (2, 5, 1),\n",
              " (2, 5, 2),\n",
              " (2, 5, 3),\n",
              " (2, 5, 4),\n",
              " (2, 5, 5),\n",
              " (2, 5, 6),\n",
              " (2, 6, 1),\n",
              " (2, 6, 2),\n",
              " (2, 6, 3),\n",
              " (2, 6, 4),\n",
              " (2, 6, 5),\n",
              " (2, 6, 6)}"
            ]
          },
          "metadata": {},
          "execution_count": 112
        }
      ]
    },
    {
      "cell_type": "code",
      "source": [
        "B1 = {om for om in Omega if om[1] %2 == 0}\n",
        "B1"
      ],
      "metadata": {
        "colab": {
          "base_uri": "https://localhost:8080/"
        },
        "id": "zZbDtaKfXIKR",
        "outputId": "2bbc8596-3397-47eb-bb68-7be476d2c5ae"
      },
      "execution_count": null,
      "outputs": [
        {
          "output_type": "execute_result",
          "data": {
            "text/plain": [
              "{(1, 2, 1),\n",
              " (1, 2, 2),\n",
              " (1, 2, 3),\n",
              " (1, 2, 4),\n",
              " (1, 2, 5),\n",
              " (1, 2, 6),\n",
              " (1, 4, 1),\n",
              " (1, 4, 2),\n",
              " (1, 4, 3),\n",
              " (1, 4, 4),\n",
              " (1, 4, 5),\n",
              " (1, 4, 6),\n",
              " (1, 6, 1),\n",
              " (1, 6, 2),\n",
              " (1, 6, 3),\n",
              " (1, 6, 4),\n",
              " (1, 6, 5),\n",
              " (1, 6, 6),\n",
              " (2, 2, 1),\n",
              " (2, 2, 2),\n",
              " (2, 2, 3),\n",
              " (2, 2, 4),\n",
              " (2, 2, 5),\n",
              " (2, 2, 6),\n",
              " (2, 4, 1),\n",
              " (2, 4, 2),\n",
              " (2, 4, 3),\n",
              " (2, 4, 4),\n",
              " (2, 4, 5),\n",
              " (2, 4, 6),\n",
              " (2, 6, 1),\n",
              " (2, 6, 2),\n",
              " (2, 6, 3),\n",
              " (2, 6, 4),\n",
              " (2, 6, 5),\n",
              " (2, 6, 6),\n",
              " (3, 2, 1),\n",
              " (3, 2, 2),\n",
              " (3, 2, 3),\n",
              " (3, 2, 4),\n",
              " (3, 2, 5),\n",
              " (3, 2, 6),\n",
              " (3, 4, 1),\n",
              " (3, 4, 2),\n",
              " (3, 4, 3),\n",
              " (3, 4, 4),\n",
              " (3, 4, 5),\n",
              " (3, 4, 6),\n",
              " (3, 6, 1),\n",
              " (3, 6, 2),\n",
              " (3, 6, 3),\n",
              " (3, 6, 4),\n",
              " (3, 6, 5),\n",
              " (3, 6, 6),\n",
              " (4, 2, 1),\n",
              " (4, 2, 2),\n",
              " (4, 2, 3),\n",
              " (4, 2, 4),\n",
              " (4, 2, 5),\n",
              " (4, 2, 6),\n",
              " (4, 4, 1),\n",
              " (4, 4, 2),\n",
              " (4, 4, 3),\n",
              " (4, 4, 4),\n",
              " (4, 4, 5),\n",
              " (4, 4, 6),\n",
              " (4, 6, 1),\n",
              " (4, 6, 2),\n",
              " (4, 6, 3),\n",
              " (4, 6, 4),\n",
              " (4, 6, 5),\n",
              " (4, 6, 6),\n",
              " (5, 2, 1),\n",
              " (5, 2, 2),\n",
              " (5, 2, 3),\n",
              " (5, 2, 4),\n",
              " (5, 2, 5),\n",
              " (5, 2, 6),\n",
              " (5, 4, 1),\n",
              " (5, 4, 2),\n",
              " (5, 4, 3),\n",
              " (5, 4, 4),\n",
              " (5, 4, 5),\n",
              " (5, 4, 6),\n",
              " (5, 6, 1),\n",
              " (5, 6, 2),\n",
              " (5, 6, 3),\n",
              " (5, 6, 4),\n",
              " (5, 6, 5),\n",
              " (5, 6, 6),\n",
              " (6, 2, 1),\n",
              " (6, 2, 2),\n",
              " (6, 2, 3),\n",
              " (6, 2, 4),\n",
              " (6, 2, 5),\n",
              " (6, 2, 6),\n",
              " (6, 4, 1),\n",
              " (6, 4, 2),\n",
              " (6, 4, 3),\n",
              " (6, 4, 4),\n",
              " (6, 4, 5),\n",
              " (6, 4, 6),\n",
              " (6, 6, 1),\n",
              " (6, 6, 2),\n",
              " (6, 6, 3),\n",
              " (6, 6, 4),\n",
              " (6, 6, 5),\n",
              " (6, 6, 6)}"
            ]
          },
          "metadata": {},
          "execution_count": 113
        }
      ]
    },
    {
      "cell_type": "code",
      "source": [
        "B2 = {om for om in Omega if om[2] %2 == 0}\n",
        "B2"
      ],
      "metadata": {
        "colab": {
          "base_uri": "https://localhost:8080/"
        },
        "id": "S2Y6ZYChXaK1",
        "outputId": "b1aa05ae-ec22-47c4-b04a-6c67de7f80af"
      },
      "execution_count": null,
      "outputs": [
        {
          "output_type": "execute_result",
          "data": {
            "text/plain": [
              "{(1, 1, 2),\n",
              " (1, 1, 4),\n",
              " (1, 1, 6),\n",
              " (1, 2, 2),\n",
              " (1, 2, 4),\n",
              " (1, 2, 6),\n",
              " (1, 3, 2),\n",
              " (1, 3, 4),\n",
              " (1, 3, 6),\n",
              " (1, 4, 2),\n",
              " (1, 4, 4),\n",
              " (1, 4, 6),\n",
              " (1, 5, 2),\n",
              " (1, 5, 4),\n",
              " (1, 5, 6),\n",
              " (1, 6, 2),\n",
              " (1, 6, 4),\n",
              " (1, 6, 6),\n",
              " (2, 1, 2),\n",
              " (2, 1, 4),\n",
              " (2, 1, 6),\n",
              " (2, 2, 2),\n",
              " (2, 2, 4),\n",
              " (2, 2, 6),\n",
              " (2, 3, 2),\n",
              " (2, 3, 4),\n",
              " (2, 3, 6),\n",
              " (2, 4, 2),\n",
              " (2, 4, 4),\n",
              " (2, 4, 6),\n",
              " (2, 5, 2),\n",
              " (2, 5, 4),\n",
              " (2, 5, 6),\n",
              " (2, 6, 2),\n",
              " (2, 6, 4),\n",
              " (2, 6, 6),\n",
              " (3, 1, 2),\n",
              " (3, 1, 4),\n",
              " (3, 1, 6),\n",
              " (3, 2, 2),\n",
              " (3, 2, 4),\n",
              " (3, 2, 6),\n",
              " (3, 3, 2),\n",
              " (3, 3, 4),\n",
              " (3, 3, 6),\n",
              " (3, 4, 2),\n",
              " (3, 4, 4),\n",
              " (3, 4, 6),\n",
              " (3, 5, 2),\n",
              " (3, 5, 4),\n",
              " (3, 5, 6),\n",
              " (3, 6, 2),\n",
              " (3, 6, 4),\n",
              " (3, 6, 6),\n",
              " (4, 1, 2),\n",
              " (4, 1, 4),\n",
              " (4, 1, 6),\n",
              " (4, 2, 2),\n",
              " (4, 2, 4),\n",
              " (4, 2, 6),\n",
              " (4, 3, 2),\n",
              " (4, 3, 4),\n",
              " (4, 3, 6),\n",
              " (4, 4, 2),\n",
              " (4, 4, 4),\n",
              " (4, 4, 6),\n",
              " (4, 5, 2),\n",
              " (4, 5, 4),\n",
              " (4, 5, 6),\n",
              " (4, 6, 2),\n",
              " (4, 6, 4),\n",
              " (4, 6, 6),\n",
              " (5, 1, 2),\n",
              " (5, 1, 4),\n",
              " (5, 1, 6),\n",
              " (5, 2, 2),\n",
              " (5, 2, 4),\n",
              " (5, 2, 6),\n",
              " (5, 3, 2),\n",
              " (5, 3, 4),\n",
              " (5, 3, 6),\n",
              " (5, 4, 2),\n",
              " (5, 4, 4),\n",
              " (5, 4, 6),\n",
              " (5, 5, 2),\n",
              " (5, 5, 4),\n",
              " (5, 5, 6),\n",
              " (5, 6, 2),\n",
              " (5, 6, 4),\n",
              " (5, 6, 6),\n",
              " (6, 1, 2),\n",
              " (6, 1, 4),\n",
              " (6, 1, 6),\n",
              " (6, 2, 2),\n",
              " (6, 2, 4),\n",
              " (6, 2, 6),\n",
              " (6, 3, 2),\n",
              " (6, 3, 4),\n",
              " (6, 3, 6),\n",
              " (6, 4, 2),\n",
              " (6, 4, 4),\n",
              " (6, 4, 6),\n",
              " (6, 5, 2),\n",
              " (6, 5, 4),\n",
              " (6, 5, 6),\n",
              " (6, 6, 2),\n",
              " (6, 6, 4),\n",
              " (6, 6, 6)}"
            ]
          },
          "metadata": {},
          "execution_count": 114
        }
      ]
    },
    {
      "cell_type": "code",
      "source": [
        "B3 = B.intersection(B1.intersection(B2))\n",
        "B3"
      ],
      "metadata": {
        "colab": {
          "base_uri": "https://localhost:8080/"
        },
        "id": "1IHBAZdtXjWo",
        "outputId": "9ee4d247-d4c9-467d-eac1-8050ab86bc42"
      },
      "execution_count": null,
      "outputs": [
        {
          "output_type": "execute_result",
          "data": {
            "text/plain": [
              "{(2, 2, 2),\n",
              " (2, 2, 4),\n",
              " (2, 2, 6),\n",
              " (2, 4, 2),\n",
              " (2, 4, 4),\n",
              " (2, 4, 6),\n",
              " (2, 6, 2),\n",
              " (2, 6, 4),\n",
              " (2, 6, 6)}"
            ]
          },
          "metadata": {},
          "execution_count": 115
        }
      ]
    },
    {
      "cell_type": "code",
      "source": [
        "len(B3)"
      ],
      "metadata": {
        "colab": {
          "base_uri": "https://localhost:8080/"
        },
        "id": "yY-9zpxVX0hI",
        "outputId": "adeff369-1ca2-4731-ff23-83aa6704511a"
      },
      "execution_count": null,
      "outputs": [
        {
          "output_type": "execute_result",
          "data": {
            "text/plain": [
              "9"
            ]
          },
          "metadata": {},
          "execution_count": 116
        }
      ]
    },
    {
      "cell_type": "code",
      "source": [
        "PB = len(B3)/len(Omega)\n",
        "PB"
      ],
      "metadata": {
        "colab": {
          "base_uri": "https://localhost:8080/"
        },
        "id": "ZJquGyHIYAZN",
        "outputId": "66d7e4da-a162-4214-eb6a-60870a7d74c4"
      },
      "execution_count": null,
      "outputs": [
        {
          "output_type": "execute_result",
          "data": {
            "text/plain": [
              "0.041666666666666664"
            ]
          },
          "metadata": {},
          "execution_count": 117
        }
      ]
    },
    {
      "cell_type": "code",
      "source": [
        "from itertools import product"
      ],
      "metadata": {
        "id": "ChOMITl2m6Kb"
      },
      "execution_count": null,
      "outputs": []
    },
    {
      "cell_type": "code",
      "source": [
        "Monedas = set(product([\"S\",\"A\"], repeat = 3))\n",
        "Monedas"
      ],
      "metadata": {
        "colab": {
          "base_uri": "https://localhost:8080/"
        },
        "id": "fwyuMiiams0_",
        "outputId": "49ff2fe6-eecc-4d17-9c6d-09439310c1a0"
      },
      "execution_count": null,
      "outputs": [
        {
          "output_type": "execute_result",
          "data": {
            "text/plain": [
              "{('A', 'A', 'A'),\n",
              " ('A', 'A', 'S'),\n",
              " ('A', 'S', 'A'),\n",
              " ('A', 'S', 'S'),\n",
              " ('S', 'A', 'A'),\n",
              " ('S', 'A', 'S'),\n",
              " ('S', 'S', 'A'),\n",
              " ('S', 'S', 'S')}"
            ]
          },
          "metadata": {},
          "execution_count": 119
        }
      ]
    },
    {
      "cell_type": "code",
      "source": [
        "len(Monedas)"
      ],
      "metadata": {
        "colab": {
          "base_uri": "https://localhost:8080/"
        },
        "id": "bJS370_onP_c",
        "outputId": "f05ec2ed-2d4d-451a-a67e-6bea8503f38e"
      },
      "execution_count": null,
      "outputs": [
        {
          "output_type": "execute_result",
          "data": {
            "text/plain": [
              "8"
            ]
          },
          "metadata": {},
          "execution_count": 120
        }
      ]
    },
    {
      "cell_type": "code",
      "source": [
        "Sol2 = {om for om in Monedas if om[1] == \"S\"}\n",
        "Sol2"
      ],
      "metadata": {
        "colab": {
          "base_uri": "https://localhost:8080/"
        },
        "id": "3f23y3wUnTKE",
        "outputId": "5e917924-c169-4a52-ad94-04b0f954ac90"
      },
      "execution_count": null,
      "outputs": [
        {
          "output_type": "execute_result",
          "data": {
            "text/plain": [
              "{('A', 'S', 'A'), ('A', 'S', 'S'), ('S', 'S', 'A'), ('S', 'S', 'S')}"
            ]
          },
          "metadata": {},
          "execution_count": 121
        }
      ]
    },
    {
      "cell_type": "code",
      "source": [
        "len(Sol2)"
      ],
      "metadata": {
        "colab": {
          "base_uri": "https://localhost:8080/"
        },
        "id": "hbMmsy2Hn1eU",
        "outputId": "f09902f3-1196-4511-d485-8cb1bfbb5359"
      },
      "execution_count": null,
      "outputs": [
        {
          "output_type": "execute_result",
          "data": {
            "text/plain": [
              "4"
            ]
          },
          "metadata": {},
          "execution_count": 122
        }
      ]
    },
    {
      "cell_type": "code",
      "source": [
        "PSol = len(Sol2)/len(Monedas)\n",
        "PSol"
      ],
      "metadata": {
        "colab": {
          "base_uri": "https://localhost:8080/"
        },
        "id": "y7BpMjdKoEYZ",
        "outputId": "f93cffb6-7129-4e48-b67a-d91434a0402e"
      },
      "execution_count": null,
      "outputs": [
        {
          "output_type": "execute_result",
          "data": {
            "text/plain": [
              "0.5"
            ]
          },
          "metadata": {},
          "execution_count": 123
        }
      ]
    },
    {
      "cell_type": "code",
      "source": [
        "def prob (E):\n",
        "  return len(E)/len(Omega)"
      ],
      "metadata": {
        "id": "5g0E-2x992g7"
      },
      "execution_count": null,
      "outputs": []
    },
    {
      "cell_type": "code",
      "source": [
        "prob (Sol2)"
      ],
      "metadata": {
        "colab": {
          "base_uri": "https://localhost:8080/"
        },
        "id": "1Ni1qwEH-CNa",
        "outputId": "8591f458-ff78-42ba-c464-a9208e74ea02"
      },
      "execution_count": null,
      "outputs": [
        {
          "output_type": "execute_result",
          "data": {
            "text/plain": [
              "0.018518518518518517"
            ]
          },
          "metadata": {},
          "execution_count": 125
        }
      ]
    },
    {
      "cell_type": "code",
      "source": [
        "prob (A)"
      ],
      "metadata": {
        "colab": {
          "base_uri": "https://localhost:8080/"
        },
        "id": "bDcTbBeM-GdX",
        "outputId": "db94badb-dd47-4c98-a33b-eba2657a5ad4"
      },
      "execution_count": null,
      "outputs": [
        {
          "output_type": "execute_result",
          "data": {
            "text/plain": [
              "0.16666666666666666"
            ]
          },
          "metadata": {},
          "execution_count": 126
        }
      ]
    },
    {
      "cell_type": "code",
      "source": [
        "prob (Sol2 & A)\n"
      ],
      "metadata": {
        "colab": {
          "base_uri": "https://localhost:8080/"
        },
        "id": "Zt1hqFph-LAe",
        "outputId": "2b205a0d-f9c0-4719-9547-28af525cda09"
      },
      "execution_count": null,
      "outputs": [
        {
          "output_type": "execute_result",
          "data": {
            "text/plain": [
              "0.0"
            ]
          },
          "metadata": {},
          "execution_count": 127
        }
      ]
    },
    {
      "cell_type": "code",
      "source": [
        "def prob_cond (E,F):\n",
        "  return len(E & F)/len(F)"
      ],
      "metadata": {
        "id": "lERXCJ7kIpVs"
      },
      "execution_count": null,
      "outputs": []
    },
    {
      "cell_type": "code",
      "source": [
        "prob_cond (Sol2, A)"
      ],
      "metadata": {
        "colab": {
          "base_uri": "https://localhost:8080/"
        },
        "id": "iUGuiTIdI0Fc",
        "outputId": "79e888a6-1dd6-4b9f-ae51-741c6fc08fa0"
      },
      "execution_count": null,
      "outputs": [
        {
          "output_type": "execute_result",
          "data": {
            "text/plain": [
              "0.0"
            ]
          },
          "metadata": {},
          "execution_count": 129
        }
      ]
    },
    {
      "cell_type": "code",
      "source": [
        "def indep (E,F):\n",
        "  return prob(E & F) == prob (E)* prob (F)"
      ],
      "metadata": {
        "id": "-MhNoejjD1pT"
      },
      "execution_count": null,
      "outputs": []
    },
    {
      "cell_type": "code",
      "source": [
        "prob (Sol2 & A)"
      ],
      "metadata": {
        "colab": {
          "base_uri": "https://localhost:8080/"
        },
        "id": "-H6-HUQhNVst",
        "outputId": "321a985d-a12c-4483-fad5-06da378e88e7"
      },
      "execution_count": null,
      "outputs": [
        {
          "output_type": "execute_result",
          "data": {
            "text/plain": [
              "0.0"
            ]
          },
          "metadata": {},
          "execution_count": 131
        }
      ]
    },
    {
      "cell_type": "code",
      "source": [
        "prob (Sol2)* prob (A)"
      ],
      "metadata": {
        "colab": {
          "base_uri": "https://localhost:8080/"
        },
        "id": "vALCEPncN5SN",
        "outputId": "5a922462-1c03-465a-b09b-b03b6013c511"
      },
      "execution_count": null,
      "outputs": [
        {
          "output_type": "execute_result",
          "data": {
            "text/plain": [
              "0.0030864197530864196"
            ]
          },
          "metadata": {},
          "execution_count": 132
        }
      ]
    },
    {
      "cell_type": "code",
      "source": [
        "indep(Sol2,A)"
      ],
      "metadata": {
        "colab": {
          "base_uri": "https://localhost:8080/"
        },
        "id": "9CmvCdPXIR-1",
        "outputId": "9f76ef1e-5767-4311-ed34-f7308402a52b"
      },
      "execution_count": null,
      "outputs": [
        {
          "output_type": "execute_result",
          "data": {
            "text/plain": [
              "False"
            ]
          },
          "metadata": {},
          "execution_count": 133
        }
      ]
    },
    {
      "cell_type": "code",
      "source": [
        "def prob (E):\n",
        "  return len(E)/len(Omega)"
      ],
      "metadata": {
        "id": "BU7FG05E6arB"
      },
      "execution_count": null,
      "outputs": []
    },
    {
      "cell_type": "code",
      "source": [
        "prob (Sol2)"
      ],
      "metadata": {
        "colab": {
          "base_uri": "https://localhost:8080/"
        },
        "id": "tnFK9oTaXTNx",
        "outputId": "d5dfd739-c75e-4ae5-fe6f-8c6ebadc1885"
      },
      "execution_count": null,
      "outputs": [
        {
          "output_type": "execute_result",
          "data": {
            "text/plain": [
              "0.018518518518518517"
            ]
          },
          "metadata": {},
          "execution_count": 136
        }
      ]
    },
    {
      "cell_type": "code",
      "source": [
        "prob (B)"
      ],
      "metadata": {
        "colab": {
          "base_uri": "https://localhost:8080/"
        },
        "id": "zIhAMVI-XXJa",
        "outputId": "503ebc75-aed2-43df-a35f-288007f7a589"
      },
      "execution_count": null,
      "outputs": [
        {
          "output_type": "execute_result",
          "data": {
            "text/plain": [
              "0.16666666666666666"
            ]
          },
          "metadata": {},
          "execution_count": 137
        }
      ]
    },
    {
      "cell_type": "code",
      "source": [
        "prob (Sol2 & B)"
      ],
      "metadata": {
        "colab": {
          "base_uri": "https://localhost:8080/"
        },
        "id": "uD7g_apnXchN",
        "outputId": "1d494b0e-92a6-4f90-f035-aa789d4738eb"
      },
      "execution_count": null,
      "outputs": [
        {
          "output_type": "execute_result",
          "data": {
            "text/plain": [
              "0.0"
            ]
          },
          "metadata": {},
          "execution_count": 138
        }
      ]
    },
    {
      "cell_type": "code",
      "source": [
        "def prob_cond (E,F):\n",
        "  return len(E & F)/len(F)"
      ],
      "metadata": {
        "id": "T80BlK7bXf-o"
      },
      "execution_count": null,
      "outputs": []
    },
    {
      "cell_type": "code",
      "source": [
        "prob_cond = (Sol2, B)"
      ],
      "metadata": {
        "id": "3ppu_rnoXmGC"
      },
      "execution_count": null,
      "outputs": []
    },
    {
      "cell_type": "code",
      "source": [
        "def indep (E,F):\n",
        "  return prob(E & F) == prob (E)* prob (F)"
      ],
      "metadata": {
        "id": "3yFXE0EeXrqk"
      },
      "execution_count": null,
      "outputs": []
    },
    {
      "cell_type": "code",
      "source": [
        "prob (Sol2 & B)"
      ],
      "metadata": {
        "colab": {
          "base_uri": "https://localhost:8080/"
        },
        "id": "RUIX18BgXwMD",
        "outputId": "f58beb00-cbad-4e05-b3e0-7c02f1e368fb"
      },
      "execution_count": null,
      "outputs": [
        {
          "output_type": "execute_result",
          "data": {
            "text/plain": [
              "0.0"
            ]
          },
          "metadata": {},
          "execution_count": 142
        }
      ]
    },
    {
      "cell_type": "code",
      "source": [
        "prob (Sol2) * prob (B)"
      ],
      "metadata": {
        "colab": {
          "base_uri": "https://localhost:8080/"
        },
        "id": "T4s2tH3sX0qF",
        "outputId": "bf8893ac-b0a2-4db0-881a-01bb9b76f349"
      },
      "execution_count": null,
      "outputs": [
        {
          "output_type": "execute_result",
          "data": {
            "text/plain": [
              "0.0030864197530864196"
            ]
          },
          "metadata": {},
          "execution_count": 143
        }
      ]
    },
    {
      "cell_type": "code",
      "source": [
        "indep (Sol2, B)"
      ],
      "metadata": {
        "colab": {
          "base_uri": "https://localhost:8080/"
        },
        "id": "UwBO88JjX5GT",
        "outputId": "6a4c0f37-42c9-44d1-ce72-1bd1952b9477"
      },
      "execution_count": null,
      "outputs": [
        {
          "output_type": "execute_result",
          "data": {
            "text/plain": [
              "False"
            ]
          },
          "metadata": {},
          "execution_count": 144
        }
      ]
    },
    {
      "cell_type": "markdown",
      "source": [
        "#####3.- Considera el experimento: Alicia y Karla lanzan dados justos. Se tiene el siguiente juego:\n",
        "\n",
        "#####Si la suma de los dados es par, Alicia gana la cantidad máxima que sale en las caras y Karla pierde la cantidad mínima que sale en las caras.\n",
        "\n",
        "#####Si la suma de los dados es un número impar, Karla gana la cantidad de  $5 y Alicia pierde la cantidad de $$3 \n",
        "\n",
        "#####¿Quién tiene más probabilidad de obtener mayor ganancia?"
      ],
      "metadata": {
        "id": "EY_YoD1q8mf9"
      }
    },
    {
      "cell_type": "code",
      "source": [
        "from itertools import product "
      ],
      "metadata": {
        "id": "OoSQOnoBBeuQ"
      },
      "execution_count": null,
      "outputs": []
    },
    {
      "cell_type": "code",
      "source": [
        "dados = set(product([1,2,3,4,5,6], repeat =2))\n",
        "dados "
      ],
      "metadata": {
        "colab": {
          "base_uri": "https://localhost:8080/"
        },
        "id": "J2yxrwABBjyZ",
        "outputId": "d050ff0c-0267-4012-c1dc-d00b6a463689"
      },
      "execution_count": null,
      "outputs": [
        {
          "output_type": "execute_result",
          "data": {
            "text/plain": [
              "{(1, 1),\n",
              " (1, 2),\n",
              " (1, 3),\n",
              " (1, 4),\n",
              " (1, 5),\n",
              " (1, 6),\n",
              " (2, 1),\n",
              " (2, 2),\n",
              " (2, 3),\n",
              " (2, 4),\n",
              " (2, 5),\n",
              " (2, 6),\n",
              " (3, 1),\n",
              " (3, 2),\n",
              " (3, 3),\n",
              " (3, 4),\n",
              " (3, 5),\n",
              " (3, 6),\n",
              " (4, 1),\n",
              " (4, 2),\n",
              " (4, 3),\n",
              " (4, 4),\n",
              " (4, 5),\n",
              " (4, 6),\n",
              " (5, 1),\n",
              " (5, 2),\n",
              " (5, 3),\n",
              " (5, 4),\n",
              " (5, 5),\n",
              " (5, 6),\n",
              " (6, 1),\n",
              " (6, 2),\n",
              " (6, 3),\n",
              " (6, 4),\n",
              " (6, 5),\n",
              " (6, 6)}"
            ]
          },
          "metadata": {},
          "execution_count": 146
        }
      ]
    },
    {
      "cell_type": "code",
      "source": [
        "len(dados)"
      ],
      "metadata": {
        "colab": {
          "base_uri": "https://localhost:8080/"
        },
        "id": "yy0pjFA5JUnB",
        "outputId": "a06b33ed-7e55-4db2-b153-0d76ae5d8687"
      },
      "execution_count": null,
      "outputs": [
        {
          "output_type": "execute_result",
          "data": {
            "text/plain": [
              "36"
            ]
          },
          "metadata": {},
          "execution_count": 147
        }
      ]
    },
    {
      "cell_type": "code",
      "source": [
        "S = {om for om in dados if (om[0] + om[1])%2 == 0}\n",
        "S"
      ],
      "metadata": {
        "colab": {
          "base_uri": "https://localhost:8080/"
        },
        "id": "p4_YfMavB1cc",
        "outputId": "c042f3e6-0e6e-4956-bd23-b530d6531ec5"
      },
      "execution_count": null,
      "outputs": [
        {
          "output_type": "execute_result",
          "data": {
            "text/plain": [
              "{(1, 1),\n",
              " (1, 3),\n",
              " (1, 5),\n",
              " (2, 2),\n",
              " (2, 4),\n",
              " (2, 6),\n",
              " (3, 1),\n",
              " (3, 3),\n",
              " (3, 5),\n",
              " (4, 2),\n",
              " (4, 4),\n",
              " (4, 6),\n",
              " (5, 1),\n",
              " (5, 3),\n",
              " (5, 5),\n",
              " (6, 2),\n",
              " (6, 4),\n",
              " (6, 6)}"
            ]
          },
          "metadata": {},
          "execution_count": 148
        }
      ]
    },
    {
      "cell_type": "code",
      "source": [
        "len(S)"
      ],
      "metadata": {
        "colab": {
          "base_uri": "https://localhost:8080/"
        },
        "id": "DXGwLw9IF7S2",
        "outputId": "ca19deed-fca9-4f1c-bcda-453808a506c9"
      },
      "execution_count": null,
      "outputs": [
        {
          "output_type": "execute_result",
          "data": {
            "text/plain": [
              "18"
            ]
          },
          "metadata": {},
          "execution_count": 149
        }
      ]
    },
    {
      "cell_type": "code",
      "source": [
        "Alicia = {max (A) for A in S}\n",
        "Alicia "
      ],
      "metadata": {
        "colab": {
          "base_uri": "https://localhost:8080/"
        },
        "id": "m1WxMkerEoJm",
        "outputId": "1553f36d-eaa7-49be-93ea-e20280ecc2c9"
      },
      "execution_count": null,
      "outputs": [
        {
          "output_type": "execute_result",
          "data": {
            "text/plain": [
              "{1, 2, 3, 4, 5, 6}"
            ]
          },
          "metadata": {},
          "execution_count": 150
        }
      ]
    },
    {
      "cell_type": "markdown",
      "source": [
        "- Alicia gane 1 peso: \n",
        "\n",
        "  - ${(1,1)} - - - - P (gane\\ 1 \\ peso) = 1/18 $ \n",
        "\n",
        "- Alicia gane 2 pesos: \n",
        "\n",
        "  - ${(2,2)} - - - - P (gane\\ 2 \\ peso) = 1/18 $ \n",
        "\n",
        "- Alicia gane 3 pesos: \n",
        "\n",
        "  -  ${(1,3), (3,1), (3,3)} - - - - P (gane\\ 3 \\ peso) = 3/18 $ \n",
        "\n",
        "- Alicia gane 4 pesos: \n",
        "\n",
        "  - ${(2,4), (4,2), (4,4)} - - - - P (gane\\ 4 \\ peso) = 3/18 $\n",
        "\n",
        "- Alicia gane 5 pesos: \n",
        "\n",
        "  - ${(1,5), (3,5), (5,1), (5,3), (5,5)} - - - - P (gane\\ 3 \\ peso) = 5/18 $ \n",
        "\n",
        "- Alicia gane 6: \n",
        "\n",
        "  - ${(2,6), (4,6), (6,2), (6,4), (6,6)} - - - - P (gane\\ 3 \\ peso) = 5/18 $ "
      ],
      "metadata": {
        "id": "_BzJbntoFQTa"
      }
    },
    {
      "cell_type": "code",
      "source": [
        "G1 = 1/18 \n",
        "G1"
      ],
      "metadata": {
        "colab": {
          "base_uri": "https://localhost:8080/"
        },
        "id": "mNVfCGjvdew3",
        "outputId": "ea7f474c-d69e-4dd9-8248-995bc6214c87"
      },
      "execution_count": null,
      "outputs": [
        {
          "output_type": "execute_result",
          "data": {
            "text/plain": [
              "0.05555555555555555"
            ]
          },
          "metadata": {},
          "execution_count": 151
        }
      ]
    },
    {
      "cell_type": "code",
      "source": [
        "G2 = 1/18 \n",
        "G2 "
      ],
      "metadata": {
        "colab": {
          "base_uri": "https://localhost:8080/"
        },
        "id": "hknuD-D8dj8B",
        "outputId": "5c73f36f-38cd-4b9f-d7d8-edcc0aa9d8b0"
      },
      "execution_count": null,
      "outputs": [
        {
          "output_type": "execute_result",
          "data": {
            "text/plain": [
              "0.05555555555555555"
            ]
          },
          "metadata": {},
          "execution_count": 152
        }
      ]
    },
    {
      "cell_type": "code",
      "source": [
        "G3 = 3/18 \n",
        "G3"
      ],
      "metadata": {
        "colab": {
          "base_uri": "https://localhost:8080/"
        },
        "id": "h6sGqVzKdnAE",
        "outputId": "c26a922e-da59-4bc8-daf7-d8eba1a21f51"
      },
      "execution_count": null,
      "outputs": [
        {
          "output_type": "execute_result",
          "data": {
            "text/plain": [
              "0.16666666666666666"
            ]
          },
          "metadata": {},
          "execution_count": 153
        }
      ]
    },
    {
      "cell_type": "code",
      "source": [
        "G4 = 3/18 \n",
        "G4"
      ],
      "metadata": {
        "colab": {
          "base_uri": "https://localhost:8080/"
        },
        "id": "kZRRdmebdphB",
        "outputId": "3f89d26b-7b90-4933-fae8-99ebc4a893a9"
      },
      "execution_count": null,
      "outputs": [
        {
          "output_type": "execute_result",
          "data": {
            "text/plain": [
              "0.16666666666666666"
            ]
          },
          "metadata": {},
          "execution_count": 154
        }
      ]
    },
    {
      "cell_type": "code",
      "source": [
        "G5 = 5/18\n",
        "G5"
      ],
      "metadata": {
        "colab": {
          "base_uri": "https://localhost:8080/"
        },
        "id": "1G5Rg8tHdsel",
        "outputId": "c985817a-7323-46d5-b9c0-a7714cb4c157"
      },
      "execution_count": null,
      "outputs": [
        {
          "output_type": "execute_result",
          "data": {
            "text/plain": [
              "0.2777777777777778"
            ]
          },
          "metadata": {},
          "execution_count": 155
        }
      ]
    },
    {
      "cell_type": "code",
      "source": [
        "G6 = 5/18 \n",
        "G6 "
      ],
      "metadata": {
        "colab": {
          "base_uri": "https://localhost:8080/"
        },
        "id": "wGMO0maPdvS1",
        "outputId": "5a24a9b3-2ad6-4afd-eea0-44f6fa299533"
      },
      "execution_count": null,
      "outputs": [
        {
          "output_type": "execute_result",
          "data": {
            "text/plain": [
              "0.2777777777777778"
            ]
          },
          "metadata": {},
          "execution_count": 156
        }
      ]
    },
    {
      "cell_type": "code",
      "source": [
        "Karla = {min (K) for K in S}\n",
        "Karla "
      ],
      "metadata": {
        "colab": {
          "base_uri": "https://localhost:8080/"
        },
        "id": "MEWMSCuDHwhW",
        "outputId": "c035738f-ce8d-459d-f039-2c36a38fd6b0"
      },
      "execution_count": null,
      "outputs": [
        {
          "output_type": "execute_result",
          "data": {
            "text/plain": [
              "{1, 2, 3, 4, 5, 6}"
            ]
          },
          "metadata": {},
          "execution_count": 157
        }
      ]
    },
    {
      "cell_type": "markdown",
      "source": [
        "- Karla pierde 1 peso: \n",
        "\n",
        "  - ${(1,1),(1,3),(1,5),(3,1)(,5,1)} - - - - P (pierde\\ 1 \\ peso) = 5/18 $ \n",
        "\n",
        "- Karla pierde 2 pesos: \n",
        "\n",
        "  - ${(2,2),(2,4)(2,6),(4,2),(6,2)} - - - - P (pierde\\ 2 \\ peso) = 5/18 $ \n",
        "\n",
        "- Karla pierde 3 pesos: \n",
        "\n",
        "  - ${(1,3),(3,1),(3,3),(3,5),(5,3)} - - - - P (pierde\\ 3 \\ peso) = 5/18 $ \n",
        "\n",
        "- Karla pierde 4 pesos: \n",
        "\n",
        "  - ${(2,4),(4,2),(4,4)(4,6),(6,4)} - - - - P (pierde\\ 4 \\ peso) = 5/18 $ \n",
        "\n",
        "- Karla pierde 5 pesos:\n",
        "\n",
        "  - ${(1,5),(3,5),(5,1),(5,3),(5,5)} - - - - P (pierde\\ 5 \\ peso) = 5/18 $ \n",
        "\n",
        "- Karla pierde 6 pesos: \n",
        "\n",
        "  - ${(2,6),(4,6),(6,2),(6,4),(6,6)} - - - - P (pierde\\ 6 \\ peso) = 5/18 $ "
      ],
      "metadata": {
        "id": "QakDOor2H55o"
      }
    },
    {
      "cell_type": "code",
      "source": [
        "P1 = 5/18 \n",
        "P1"
      ],
      "metadata": {
        "colab": {
          "base_uri": "https://localhost:8080/"
        },
        "id": "Y_TDKVxDhQ30",
        "outputId": "131d6fb9-cd00-442a-a83e-591fc32a9e27"
      },
      "execution_count": null,
      "outputs": [
        {
          "output_type": "execute_result",
          "data": {
            "text/plain": [
              "0.2777777777777778"
            ]
          },
          "metadata": {},
          "execution_count": 158
        }
      ]
    },
    {
      "cell_type": "code",
      "source": [
        "P2 = 5/18 \n",
        "P2"
      ],
      "metadata": {
        "colab": {
          "base_uri": "https://localhost:8080/"
        },
        "id": "-XgH-4ElhVxx",
        "outputId": "b6af19fb-4b8c-44c1-bc75-5f7d5b512bf5"
      },
      "execution_count": null,
      "outputs": [
        {
          "output_type": "execute_result",
          "data": {
            "text/plain": [
              "0.2777777777777778"
            ]
          },
          "metadata": {},
          "execution_count": 159
        }
      ]
    },
    {
      "cell_type": "code",
      "source": [
        "P3 = 5/18 \n",
        "P3"
      ],
      "metadata": {
        "colab": {
          "base_uri": "https://localhost:8080/"
        },
        "id": "m8jXtkO6hYEQ",
        "outputId": "9a29800c-025f-4da5-d4de-c2a1d128590d"
      },
      "execution_count": null,
      "outputs": [
        {
          "output_type": "execute_result",
          "data": {
            "text/plain": [
              "0.2777777777777778"
            ]
          },
          "metadata": {},
          "execution_count": 160
        }
      ]
    },
    {
      "cell_type": "code",
      "source": [
        "P4 = 5/18 \n",
        "P4"
      ],
      "metadata": {
        "colab": {
          "base_uri": "https://localhost:8080/"
        },
        "id": "0Ki6nHSAhZ-r",
        "outputId": "6c0392a2-9fea-46f3-bfec-edf1e0584b3c"
      },
      "execution_count": null,
      "outputs": [
        {
          "output_type": "execute_result",
          "data": {
            "text/plain": [
              "0.2777777777777778"
            ]
          },
          "metadata": {},
          "execution_count": 161
        }
      ]
    },
    {
      "cell_type": "code",
      "source": [
        "P5 = 5/18 \n",
        "P5"
      ],
      "metadata": {
        "colab": {
          "base_uri": "https://localhost:8080/"
        },
        "id": "RJyhtPoChcP7",
        "outputId": "5dc58c8e-c333-4770-8536-03631353efef"
      },
      "execution_count": null,
      "outputs": [
        {
          "output_type": "execute_result",
          "data": {
            "text/plain": [
              "0.2777777777777778"
            ]
          },
          "metadata": {},
          "execution_count": 162
        }
      ]
    },
    {
      "cell_type": "code",
      "source": [
        "P6 = 5/18 \n",
        "P6"
      ],
      "metadata": {
        "colab": {
          "base_uri": "https://localhost:8080/"
        },
        "id": "pEevth87heb4",
        "outputId": "9d5e9f9c-fb9f-4d7d-af1b-09f89584ec03"
      },
      "execution_count": null,
      "outputs": [
        {
          "output_type": "execute_result",
          "data": {
            "text/plain": [
              "0.2777777777777778"
            ]
          },
          "metadata": {},
          "execution_count": 163
        }
      ]
    },
    {
      "cell_type": "code",
      "source": [
        "I = {om for om in Omega if (om[0] + om[1])%2 == 1}\n",
        "I"
      ],
      "metadata": {
        "colab": {
          "base_uri": "https://localhost:8080/"
        },
        "id": "2AbUDaPMH-EM",
        "outputId": "6761e0f9-3d9d-4266-db95-ecd0f34c9fe3"
      },
      "execution_count": null,
      "outputs": [
        {
          "output_type": "execute_result",
          "data": {
            "text/plain": [
              "{(1, 2, 1),\n",
              " (1, 2, 2),\n",
              " (1, 2, 3),\n",
              " (1, 2, 4),\n",
              " (1, 2, 5),\n",
              " (1, 2, 6),\n",
              " (1, 4, 1),\n",
              " (1, 4, 2),\n",
              " (1, 4, 3),\n",
              " (1, 4, 4),\n",
              " (1, 4, 5),\n",
              " (1, 4, 6),\n",
              " (1, 6, 1),\n",
              " (1, 6, 2),\n",
              " (1, 6, 3),\n",
              " (1, 6, 4),\n",
              " (1, 6, 5),\n",
              " (1, 6, 6),\n",
              " (2, 1, 1),\n",
              " (2, 1, 2),\n",
              " (2, 1, 3),\n",
              " (2, 1, 4),\n",
              " (2, 1, 5),\n",
              " (2, 1, 6),\n",
              " (2, 3, 1),\n",
              " (2, 3, 2),\n",
              " (2, 3, 3),\n",
              " (2, 3, 4),\n",
              " (2, 3, 5),\n",
              " (2, 3, 6),\n",
              " (2, 5, 1),\n",
              " (2, 5, 2),\n",
              " (2, 5, 3),\n",
              " (2, 5, 4),\n",
              " (2, 5, 5),\n",
              " (2, 5, 6),\n",
              " (3, 2, 1),\n",
              " (3, 2, 2),\n",
              " (3, 2, 3),\n",
              " (3, 2, 4),\n",
              " (3, 2, 5),\n",
              " (3, 2, 6),\n",
              " (3, 4, 1),\n",
              " (3, 4, 2),\n",
              " (3, 4, 3),\n",
              " (3, 4, 4),\n",
              " (3, 4, 5),\n",
              " (3, 4, 6),\n",
              " (3, 6, 1),\n",
              " (3, 6, 2),\n",
              " (3, 6, 3),\n",
              " (3, 6, 4),\n",
              " (3, 6, 5),\n",
              " (3, 6, 6),\n",
              " (4, 1, 1),\n",
              " (4, 1, 2),\n",
              " (4, 1, 3),\n",
              " (4, 1, 4),\n",
              " (4, 1, 5),\n",
              " (4, 1, 6),\n",
              " (4, 3, 1),\n",
              " (4, 3, 2),\n",
              " (4, 3, 3),\n",
              " (4, 3, 4),\n",
              " (4, 3, 5),\n",
              " (4, 3, 6),\n",
              " (4, 5, 1),\n",
              " (4, 5, 2),\n",
              " (4, 5, 3),\n",
              " (4, 5, 4),\n",
              " (4, 5, 5),\n",
              " (4, 5, 6),\n",
              " (5, 2, 1),\n",
              " (5, 2, 2),\n",
              " (5, 2, 3),\n",
              " (5, 2, 4),\n",
              " (5, 2, 5),\n",
              " (5, 2, 6),\n",
              " (5, 4, 1),\n",
              " (5, 4, 2),\n",
              " (5, 4, 3),\n",
              " (5, 4, 4),\n",
              " (5, 4, 5),\n",
              " (5, 4, 6),\n",
              " (5, 6, 1),\n",
              " (5, 6, 2),\n",
              " (5, 6, 3),\n",
              " (5, 6, 4),\n",
              " (5, 6, 5),\n",
              " (5, 6, 6),\n",
              " (6, 1, 1),\n",
              " (6, 1, 2),\n",
              " (6, 1, 3),\n",
              " (6, 1, 4),\n",
              " (6, 1, 5),\n",
              " (6, 1, 6),\n",
              " (6, 3, 1),\n",
              " (6, 3, 2),\n",
              " (6, 3, 3),\n",
              " (6, 3, 4),\n",
              " (6, 3, 5),\n",
              " (6, 3, 6),\n",
              " (6, 5, 1),\n",
              " (6, 5, 2),\n",
              " (6, 5, 3),\n",
              " (6, 5, 4),\n",
              " (6, 5, 5),\n",
              " (6, 5, 6)}"
            ]
          },
          "metadata": {},
          "execution_count": 164
        }
      ]
    },
    {
      "cell_type": "code",
      "source": [
        "len(I)"
      ],
      "metadata": {
        "colab": {
          "base_uri": "https://localhost:8080/"
        },
        "id": "zAA7ZrsjIcN8",
        "outputId": "e4d53bd7-b938-41dc-c32d-23ac602f0ca3"
      },
      "execution_count": null,
      "outputs": [
        {
          "output_type": "execute_result",
          "data": {
            "text/plain": [
              "108"
            ]
          },
          "metadata": {},
          "execution_count": 165
        }
      ]
    },
    {
      "cell_type": "code",
      "source": [
        "KarlaG5 = len(I)/len(dados)\n",
        "KarlaG5"
      ],
      "metadata": {
        "colab": {
          "base_uri": "https://localhost:8080/"
        },
        "id": "gysntUh7JeNW",
        "outputId": "f24f1ce9-59fd-45dd-d70c-184181f99c35"
      },
      "execution_count": null,
      "outputs": [
        {
          "output_type": "execute_result",
          "data": {
            "text/plain": [
              "3.0"
            ]
          },
          "metadata": {},
          "execution_count": 166
        }
      ]
    },
    {
      "cell_type": "code",
      "source": [
        "AliciaP3 = len(I)/len(dados)\n",
        "AliciaP3"
      ],
      "metadata": {
        "colab": {
          "base_uri": "https://localhost:8080/"
        },
        "id": "DdkE-4EgJlHD",
        "outputId": "de6e96de-7ec7-4f63-c26e-102c272992fb"
      },
      "execution_count": null,
      "outputs": [
        {
          "output_type": "execute_result",
          "data": {
            "text/plain": [
              "3.0"
            ]
          },
          "metadata": {},
          "execution_count": 167
        }
      ]
    },
    {
      "cell_type": "markdown",
      "source": [
        "Ganancia de Karla \n",
        "\n",
        "- $P( gana \\ 5) = 0.5$ ---- $0.5 * 5 = 2.5$\n",
        "\n",
        "Pérdida de Alicia \n",
        "\n",
        "- $P( pierde \\ 3) = 0.5$ --- $0.5 * 3 = 1.5$"
      ],
      "metadata": {
        "id": "fuuUM1MwKfj4"
      }
    },
    {
      "cell_type": "code",
      "source": [
        "PAlicia = G1*G2*G3*G4*G5*G6\n",
        "PAlicia "
      ],
      "metadata": {
        "colab": {
          "base_uri": "https://localhost:8080/"
        },
        "id": "S4EPSXoXjX3o",
        "outputId": "b3d4b3cf-7a29-4482-abae-8880a33a720f"
      },
      "execution_count": null,
      "outputs": [
        {
          "output_type": "execute_result",
          "data": {
            "text/plain": [
              "6.61526867516808e-06"
            ]
          },
          "metadata": {},
          "execution_count": 168
        }
      ]
    },
    {
      "cell_type": "code",
      "source": [
        "PKarla = KarlaG5\n",
        "PKarla"
      ],
      "metadata": {
        "colab": {
          "base_uri": "https://localhost:8080/"
        },
        "id": "qX2B5u_NmEBl",
        "outputId": "aa7fb26f-7bf3-40af-8058-a4f155cfa91f"
      },
      "execution_count": null,
      "outputs": [
        {
          "output_type": "execute_result",
          "data": {
            "text/plain": [
              "3.0"
            ]
          },
          "metadata": {},
          "execution_count": 169
        }
      ]
    },
    {
      "cell_type": "markdown",
      "source": [
        "##### Por lo tanto, Karla tiene mayor probabilidad de ganar\n",
        "\n",
        "\n",
        "\n",
        "\n"
      ],
      "metadata": {
        "id": "q6wti8EowLK8"
      }
    },
    {
      "cell_type": "markdown",
      "source": [
        "##### 4.- Escribe en un DataFrame la distribución asociada a la suma que se obtiene al lanzar dados."
      ],
      "metadata": {
        "id": "yoF_SKNG8_MN"
      }
    },
    {
      "cell_type": "code",
      "source": [
        "from itertools import product"
      ],
      "metadata": {
        "id": "yNWzx8jSxDa0"
      },
      "execution_count": null,
      "outputs": []
    },
    {
      "cell_type": "code",
      "source": [
        "LANDADOS = set(product([1,2,3,4,5,6], repeat = 3 ))\n",
        "LANDADOS"
      ],
      "metadata": {
        "colab": {
          "base_uri": "https://localhost:8080/"
        },
        "id": "WFS9AaGzxM0H",
        "outputId": "33524980-430d-407a-9c05-c4c7597d3b43"
      },
      "execution_count": null,
      "outputs": [
        {
          "output_type": "execute_result",
          "data": {
            "text/plain": [
              "{(1, 1, 1),\n",
              " (1, 1, 2),\n",
              " (1, 1, 3),\n",
              " (1, 1, 4),\n",
              " (1, 1, 5),\n",
              " (1, 1, 6),\n",
              " (1, 2, 1),\n",
              " (1, 2, 2),\n",
              " (1, 2, 3),\n",
              " (1, 2, 4),\n",
              " (1, 2, 5),\n",
              " (1, 2, 6),\n",
              " (1, 3, 1),\n",
              " (1, 3, 2),\n",
              " (1, 3, 3),\n",
              " (1, 3, 4),\n",
              " (1, 3, 5),\n",
              " (1, 3, 6),\n",
              " (1, 4, 1),\n",
              " (1, 4, 2),\n",
              " (1, 4, 3),\n",
              " (1, 4, 4),\n",
              " (1, 4, 5),\n",
              " (1, 4, 6),\n",
              " (1, 5, 1),\n",
              " (1, 5, 2),\n",
              " (1, 5, 3),\n",
              " (1, 5, 4),\n",
              " (1, 5, 5),\n",
              " (1, 5, 6),\n",
              " (1, 6, 1),\n",
              " (1, 6, 2),\n",
              " (1, 6, 3),\n",
              " (1, 6, 4),\n",
              " (1, 6, 5),\n",
              " (1, 6, 6),\n",
              " (2, 1, 1),\n",
              " (2, 1, 2),\n",
              " (2, 1, 3),\n",
              " (2, 1, 4),\n",
              " (2, 1, 5),\n",
              " (2, 1, 6),\n",
              " (2, 2, 1),\n",
              " (2, 2, 2),\n",
              " (2, 2, 3),\n",
              " (2, 2, 4),\n",
              " (2, 2, 5),\n",
              " (2, 2, 6),\n",
              " (2, 3, 1),\n",
              " (2, 3, 2),\n",
              " (2, 3, 3),\n",
              " (2, 3, 4),\n",
              " (2, 3, 5),\n",
              " (2, 3, 6),\n",
              " (2, 4, 1),\n",
              " (2, 4, 2),\n",
              " (2, 4, 3),\n",
              " (2, 4, 4),\n",
              " (2, 4, 5),\n",
              " (2, 4, 6),\n",
              " (2, 5, 1),\n",
              " (2, 5, 2),\n",
              " (2, 5, 3),\n",
              " (2, 5, 4),\n",
              " (2, 5, 5),\n",
              " (2, 5, 6),\n",
              " (2, 6, 1),\n",
              " (2, 6, 2),\n",
              " (2, 6, 3),\n",
              " (2, 6, 4),\n",
              " (2, 6, 5),\n",
              " (2, 6, 6),\n",
              " (3, 1, 1),\n",
              " (3, 1, 2),\n",
              " (3, 1, 3),\n",
              " (3, 1, 4),\n",
              " (3, 1, 5),\n",
              " (3, 1, 6),\n",
              " (3, 2, 1),\n",
              " (3, 2, 2),\n",
              " (3, 2, 3),\n",
              " (3, 2, 4),\n",
              " (3, 2, 5),\n",
              " (3, 2, 6),\n",
              " (3, 3, 1),\n",
              " (3, 3, 2),\n",
              " (3, 3, 3),\n",
              " (3, 3, 4),\n",
              " (3, 3, 5),\n",
              " (3, 3, 6),\n",
              " (3, 4, 1),\n",
              " (3, 4, 2),\n",
              " (3, 4, 3),\n",
              " (3, 4, 4),\n",
              " (3, 4, 5),\n",
              " (3, 4, 6),\n",
              " (3, 5, 1),\n",
              " (3, 5, 2),\n",
              " (3, 5, 3),\n",
              " (3, 5, 4),\n",
              " (3, 5, 5),\n",
              " (3, 5, 6),\n",
              " (3, 6, 1),\n",
              " (3, 6, 2),\n",
              " (3, 6, 3),\n",
              " (3, 6, 4),\n",
              " (3, 6, 5),\n",
              " (3, 6, 6),\n",
              " (4, 1, 1),\n",
              " (4, 1, 2),\n",
              " (4, 1, 3),\n",
              " (4, 1, 4),\n",
              " (4, 1, 5),\n",
              " (4, 1, 6),\n",
              " (4, 2, 1),\n",
              " (4, 2, 2),\n",
              " (4, 2, 3),\n",
              " (4, 2, 4),\n",
              " (4, 2, 5),\n",
              " (4, 2, 6),\n",
              " (4, 3, 1),\n",
              " (4, 3, 2),\n",
              " (4, 3, 3),\n",
              " (4, 3, 4),\n",
              " (4, 3, 5),\n",
              " (4, 3, 6),\n",
              " (4, 4, 1),\n",
              " (4, 4, 2),\n",
              " (4, 4, 3),\n",
              " (4, 4, 4),\n",
              " (4, 4, 5),\n",
              " (4, 4, 6),\n",
              " (4, 5, 1),\n",
              " (4, 5, 2),\n",
              " (4, 5, 3),\n",
              " (4, 5, 4),\n",
              " (4, 5, 5),\n",
              " (4, 5, 6),\n",
              " (4, 6, 1),\n",
              " (4, 6, 2),\n",
              " (4, 6, 3),\n",
              " (4, 6, 4),\n",
              " (4, 6, 5),\n",
              " (4, 6, 6),\n",
              " (5, 1, 1),\n",
              " (5, 1, 2),\n",
              " (5, 1, 3),\n",
              " (5, 1, 4),\n",
              " (5, 1, 5),\n",
              " (5, 1, 6),\n",
              " (5, 2, 1),\n",
              " (5, 2, 2),\n",
              " (5, 2, 3),\n",
              " (5, 2, 4),\n",
              " (5, 2, 5),\n",
              " (5, 2, 6),\n",
              " (5, 3, 1),\n",
              " (5, 3, 2),\n",
              " (5, 3, 3),\n",
              " (5, 3, 4),\n",
              " (5, 3, 5),\n",
              " (5, 3, 6),\n",
              " (5, 4, 1),\n",
              " (5, 4, 2),\n",
              " (5, 4, 3),\n",
              " (5, 4, 4),\n",
              " (5, 4, 5),\n",
              " (5, 4, 6),\n",
              " (5, 5, 1),\n",
              " (5, 5, 2),\n",
              " (5, 5, 3),\n",
              " (5, 5, 4),\n",
              " (5, 5, 5),\n",
              " (5, 5, 6),\n",
              " (5, 6, 1),\n",
              " (5, 6, 2),\n",
              " (5, 6, 3),\n",
              " (5, 6, 4),\n",
              " (5, 6, 5),\n",
              " (5, 6, 6),\n",
              " (6, 1, 1),\n",
              " (6, 1, 2),\n",
              " (6, 1, 3),\n",
              " (6, 1, 4),\n",
              " (6, 1, 5),\n",
              " (6, 1, 6),\n",
              " (6, 2, 1),\n",
              " (6, 2, 2),\n",
              " (6, 2, 3),\n",
              " (6, 2, 4),\n",
              " (6, 2, 5),\n",
              " (6, 2, 6),\n",
              " (6, 3, 1),\n",
              " (6, 3, 2),\n",
              " (6, 3, 3),\n",
              " (6, 3, 4),\n",
              " (6, 3, 5),\n",
              " (6, 3, 6),\n",
              " (6, 4, 1),\n",
              " (6, 4, 2),\n",
              " (6, 4, 3),\n",
              " (6, 4, 4),\n",
              " (6, 4, 5),\n",
              " (6, 4, 6),\n",
              " (6, 5, 1),\n",
              " (6, 5, 2),\n",
              " (6, 5, 3),\n",
              " (6, 5, 4),\n",
              " (6, 5, 5),\n",
              " (6, 5, 6),\n",
              " (6, 6, 1),\n",
              " (6, 6, 2),\n",
              " (6, 6, 3),\n",
              " (6, 6, 4),\n",
              " (6, 6, 5),\n",
              " (6, 6, 6)}"
            ]
          },
          "metadata": {},
          "execution_count": 173
        }
      ]
    },
    {
      "cell_type": "code",
      "source": [
        "SUM3 = {om for om in LANDADOS if (om[0] + om[1]+ om [2])==3}"
      ],
      "metadata": {
        "id": "B112fzerxkM1"
      },
      "execution_count": null,
      "outputs": []
    },
    {
      "cell_type": "code",
      "source": [
        "SUM4 = {om for om in LANDADOS if (om[0] + om[1] + om[2])==4}"
      ],
      "metadata": {
        "id": "cLhlWJSyyIO_"
      },
      "execution_count": null,
      "outputs": []
    },
    {
      "cell_type": "code",
      "source": [
        "SUM5 = {om for om in LANDADOS if (om[0] + om[1] + om[2])==5}"
      ],
      "metadata": {
        "id": "eThpQrY-yTbT"
      },
      "execution_count": null,
      "outputs": []
    },
    {
      "cell_type": "code",
      "source": [
        "SUM6 = {om for om in LANDADOS if (om[0] + om[1] + om[2])==6}"
      ],
      "metadata": {
        "id": "mfskBGvpyWR3"
      },
      "execution_count": null,
      "outputs": []
    },
    {
      "cell_type": "code",
      "source": [
        "SUM7 = {om for om in LANDADOS if (om[0] + om[1] + om[2])==7}"
      ],
      "metadata": {
        "id": "lAFP6xFcyY8Z"
      },
      "execution_count": null,
      "outputs": []
    },
    {
      "cell_type": "code",
      "source": [
        "SUM8 = {om for om in LANDADOS if (om[0] + om[1] + om[2])==8}"
      ],
      "metadata": {
        "id": "vN_JtqwAybNO"
      },
      "execution_count": null,
      "outputs": []
    },
    {
      "cell_type": "code",
      "source": [
        "SUM9 = {om for om in LANDADOS if (om[0] + om[1] + om[2])==9}"
      ],
      "metadata": {
        "id": "r-KgoXl5ydP5"
      },
      "execution_count": null,
      "outputs": []
    },
    {
      "cell_type": "code",
      "source": [
        "SUM10 = {om for om in LANDADOS if (om[0] + om[1] + om[2])==10}"
      ],
      "metadata": {
        "id": "nLDnoEBDyhXV"
      },
      "execution_count": null,
      "outputs": []
    },
    {
      "cell_type": "code",
      "source": [
        "SUM11 = {om for om in LANDADOS if (om[0] + om[1] + om[2])==11}"
      ],
      "metadata": {
        "id": "adzBk877yjN_"
      },
      "execution_count": null,
      "outputs": []
    },
    {
      "cell_type": "code",
      "source": [
        "SUM12 = {om for om in LANDADOS if (om[0] + om[1] + om[2])==12}"
      ],
      "metadata": {
        "id": "Pj2o-IWBylWI"
      },
      "execution_count": null,
      "outputs": []
    },
    {
      "cell_type": "code",
      "source": [
        "SUM13 = {om for om in LANDADOS if (om[0] + om[1] + om[2])==13}"
      ],
      "metadata": {
        "id": "HPlx6jXfynR4"
      },
      "execution_count": null,
      "outputs": []
    },
    {
      "cell_type": "code",
      "source": [
        "SUM14 = {om for om in LANDADOS if (om[0] + om[1] + om[2])==14}"
      ],
      "metadata": {
        "id": "gy6yGI3Uypy5"
      },
      "execution_count": null,
      "outputs": []
    },
    {
      "cell_type": "code",
      "source": [
        "SUM15 = {om for om in LANDADOS if (om[0] + om[1] + om[2])==15}"
      ],
      "metadata": {
        "id": "0XXxqyouyrzO"
      },
      "execution_count": null,
      "outputs": []
    },
    {
      "cell_type": "code",
      "source": [
        "SUM16 = {om for om in LANDADOS if (om[0] + om[1] + om[2])==16}"
      ],
      "metadata": {
        "id": "2rvq1Q7ryuZ-"
      },
      "execution_count": null,
      "outputs": []
    },
    {
      "cell_type": "code",
      "source": [
        "SUM17 = {om for om in LANDADOS if (om[0] + om[1] + om[2])==17}"
      ],
      "metadata": {
        "id": "bM60FPpXywa4"
      },
      "execution_count": null,
      "outputs": []
    },
    {
      "cell_type": "code",
      "source": [
        "SUM18 = {om for om in LANDADOS if (om[0] + om[1] + om[2])==18}"
      ],
      "metadata": {
        "id": "fwaE11C4yzRH"
      },
      "execution_count": null,
      "outputs": []
    },
    {
      "cell_type": "code",
      "source": [
        "Dic = {\"SUMA 3\": [SUM3],\n",
        "       \"SUMA 4\": [SUM4],\n",
        "       \"SUMA 5\": [SUM5],\n",
        "       \"SUMA 6\": [SUM6],\n",
        "       \"SUMA 7\": [SUM7],\n",
        "       \"SUMA 8\": [SUM8],\n",
        "       \"SUMA 9\": [SUM9],\n",
        "       \"SUMA 10\": [SUM10],\n",
        "       \"SUMA 11\": [SUM11],\n",
        "       \"SUMA 12\": [SUM12],\n",
        "       \"SUMA 13\": [SUM13],\n",
        "       \"SUMA 14\": [SUM14],\n",
        "       \"SUMA 15\": [SUM15],\n",
        "       \"SUMA 16\": [SUM16],\n",
        "       \"SUMA 17\": [SUM17],\n",
        "       \"SUMA 18\": [SUM18]}"
      ],
      "metadata": {
        "id": "Fs4w3XG3y5Rr"
      },
      "execution_count": null,
      "outputs": []
    },
    {
      "cell_type": "code",
      "source": [
        "import pandas as pd "
      ],
      "metadata": {
        "id": "yxdiJzj_z13r"
      },
      "execution_count": null,
      "outputs": []
    },
    {
      "cell_type": "code",
      "source": [
        "indice = [\"POSIBLES COMBINACIONES PARA OBTENER LOS RESULTADOS\"]"
      ],
      "metadata": {
        "id": "qw3QDpSqz5cM"
      },
      "execution_count": null,
      "outputs": []
    },
    {
      "cell_type": "code",
      "source": [
        "dfdic= pd.DataFrame(Dic, index = indice)\n",
        "dfdic"
      ],
      "metadata": {
        "colab": {
          "base_uri": "https://localhost:8080/",
          "height": 558
        },
        "id": "AQZV41wA0P8Q",
        "outputId": "df917eda-4768-49dd-f69d-4b886ea69527"
      },
      "execution_count": null,
      "outputs": [
        {
          "output_type": "execute_result",
          "data": {
            "text/plain": [
              "                                                         SUMA 3  \\\n",
              "POSIBLES COMBINACIONES PARA OBTENER LOS RESULTADOS  {(1, 1, 1)}   \n",
              "\n",
              "                                                                               SUMA 4  \\\n",
              "POSIBLES COMBINACIONES PARA OBTENER LOS RESULTADOS  {(1, 2, 1), (2, 1, 1), (1, 1, 2)}   \n",
              "\n",
              "                                                                                               SUMA 5  \\\n",
              "POSIBLES COMBINACIONES PARA OBTENER LOS RESULTADOS  {(3, 1, 1), (1, 2, 2), (2, 2, 1), (1, 1, 3), (...   \n",
              "\n",
              "                                                                                               SUMA 6  \\\n",
              "POSIBLES COMBINACIONES PARA OBTENER LOS RESULTADOS  {(2, 2, 2), (3, 1, 2), (1, 3, 2), (3, 2, 1), (...   \n",
              "\n",
              "                                                                                               SUMA 7  \\\n",
              "POSIBLES COMBINACIONES PARA OBTENER LOS RESULTADOS  {(2, 3, 2), (2, 1, 4), (5, 1, 1), (4, 2, 1), (...   \n",
              "\n",
              "                                                                                               SUMA 8  \\\n",
              "POSIBLES COMBINACIONES PARA OBTENER LOS RESULTADOS  {(4, 2, 2), (2, 2, 4), (1, 1, 6), (1, 5, 2), (...   \n",
              "\n",
              "                                                                                               SUMA 9  \\\n",
              "POSIBLES COMBINACIONES PARA OBTENER LOS RESULTADOS  {(1, 5, 3), (2, 2, 5), (4, 4, 1), (1, 4, 4), (...   \n",
              "\n",
              "                                                                                              SUMA 10  \\\n",
              "POSIBLES COMBINACIONES PARA OBTENER LOS RESULTADOS  {(2, 3, 5), (1, 4, 5), (4, 3, 3), (5, 1, 4), (...   \n",
              "\n",
              "                                                                                              SUMA 11  \\\n",
              "POSIBLES COMBINACIONES PARA OBTENER LOS RESULTADOS  {(4, 3, 4), (2, 3, 6), (5, 5, 1), (5, 1, 5), (...   \n",
              "\n",
              "                                                                                              SUMA 12  \\\n",
              "POSIBLES COMBINACIONES PARA OBTENER LOS RESULTADOS  {(3, 4, 5), (5, 3, 4), (3, 5, 4), (4, 3, 5), (...   \n",
              "\n",
              "                                                                                              SUMA 13  \\\n",
              "POSIBLES COMBINACIONES PARA OBTENER LOS RESULTADOS  {(5, 6, 2), (5, 2, 6), (3, 4, 6), (6, 3, 4), (...   \n",
              "\n",
              "                                                                                              SUMA 14  \\\n",
              "POSIBLES COMBINACIONES PARA OBTENER LOS RESULTADOS  {(4, 4, 6), (5, 4, 5), (5, 6, 3), (3, 6, 5), (...   \n",
              "\n",
              "                                                                                              SUMA 15  \\\n",
              "POSIBLES COMBINACIONES PARA OBTENER LOS RESULTADOS  {(6, 6, 3), (6, 4, 5), (4, 6, 5), (5, 6, 4), (...   \n",
              "\n",
              "                                                                                              SUMA 16  \\\n",
              "POSIBLES COMBINACIONES PARA OBTENER LOS RESULTADOS  {(5, 5, 6), (4, 6, 6), (6, 5, 5), (5, 6, 5), (...   \n",
              "\n",
              "                                                                              SUMA 17  \\\n",
              "POSIBLES COMBINACIONES PARA OBTENER LOS RESULTADOS  {(5, 6, 6), (6, 5, 6), (6, 6, 5)}   \n",
              "\n",
              "                                                        SUMA 18  \n",
              "POSIBLES COMBINACIONES PARA OBTENER LOS RESULTADOS  {(6, 6, 6)}  "
            ],
            "text/html": [
              "\n",
              "  <div id=\"df-fa048aef-b9ae-45c8-80d2-e73f150b9d58\">\n",
              "    <div class=\"colab-df-container\">\n",
              "      <div>\n",
              "<style scoped>\n",
              "    .dataframe tbody tr th:only-of-type {\n",
              "        vertical-align: middle;\n",
              "    }\n",
              "\n",
              "    .dataframe tbody tr th {\n",
              "        vertical-align: top;\n",
              "    }\n",
              "\n",
              "    .dataframe thead th {\n",
              "        text-align: right;\n",
              "    }\n",
              "</style>\n",
              "<table border=\"1\" class=\"dataframe\">\n",
              "  <thead>\n",
              "    <tr style=\"text-align: right;\">\n",
              "      <th></th>\n",
              "      <th>SUMA 3</th>\n",
              "      <th>SUMA 4</th>\n",
              "      <th>SUMA 5</th>\n",
              "      <th>SUMA 6</th>\n",
              "      <th>SUMA 7</th>\n",
              "      <th>SUMA 8</th>\n",
              "      <th>SUMA 9</th>\n",
              "      <th>SUMA 10</th>\n",
              "      <th>SUMA 11</th>\n",
              "      <th>SUMA 12</th>\n",
              "      <th>SUMA 13</th>\n",
              "      <th>SUMA 14</th>\n",
              "      <th>SUMA 15</th>\n",
              "      <th>SUMA 16</th>\n",
              "      <th>SUMA 17</th>\n",
              "      <th>SUMA 18</th>\n",
              "    </tr>\n",
              "  </thead>\n",
              "  <tbody>\n",
              "    <tr>\n",
              "      <th>POSIBLES COMBINACIONES PARA OBTENER LOS RESULTADOS</th>\n",
              "      <td>{(1, 1, 1)}</td>\n",
              "      <td>{(1, 2, 1), (2, 1, 1), (1, 1, 2)}</td>\n",
              "      <td>{(3, 1, 1), (1, 2, 2), (2, 2, 1), (1, 1, 3), (...</td>\n",
              "      <td>{(2, 2, 2), (3, 1, 2), (1, 3, 2), (3, 2, 1), (...</td>\n",
              "      <td>{(2, 3, 2), (2, 1, 4), (5, 1, 1), (4, 2, 1), (...</td>\n",
              "      <td>{(4, 2, 2), (2, 2, 4), (1, 1, 6), (1, 5, 2), (...</td>\n",
              "      <td>{(1, 5, 3), (2, 2, 5), (4, 4, 1), (1, 4, 4), (...</td>\n",
              "      <td>{(2, 3, 5), (1, 4, 5), (4, 3, 3), (5, 1, 4), (...</td>\n",
              "      <td>{(4, 3, 4), (2, 3, 6), (5, 5, 1), (5, 1, 5), (...</td>\n",
              "      <td>{(3, 4, 5), (5, 3, 4), (3, 5, 4), (4, 3, 5), (...</td>\n",
              "      <td>{(5, 6, 2), (5, 2, 6), (3, 4, 6), (6, 3, 4), (...</td>\n",
              "      <td>{(4, 4, 6), (5, 4, 5), (5, 6, 3), (3, 6, 5), (...</td>\n",
              "      <td>{(6, 6, 3), (6, 4, 5), (4, 6, 5), (5, 6, 4), (...</td>\n",
              "      <td>{(5, 5, 6), (4, 6, 6), (6, 5, 5), (5, 6, 5), (...</td>\n",
              "      <td>{(5, 6, 6), (6, 5, 6), (6, 6, 5)}</td>\n",
              "      <td>{(6, 6, 6)}</td>\n",
              "    </tr>\n",
              "  </tbody>\n",
              "</table>\n",
              "</div>\n",
              "      <button class=\"colab-df-convert\" onclick=\"convertToInteractive('df-fa048aef-b9ae-45c8-80d2-e73f150b9d58')\"\n",
              "              title=\"Convert this dataframe to an interactive table.\"\n",
              "              style=\"display:none;\">\n",
              "        \n",
              "  <svg xmlns=\"http://www.w3.org/2000/svg\" height=\"24px\"viewBox=\"0 0 24 24\"\n",
              "       width=\"24px\">\n",
              "    <path d=\"M0 0h24v24H0V0z\" fill=\"none\"/>\n",
              "    <path d=\"M18.56 5.44l.94 2.06.94-2.06 2.06-.94-2.06-.94-.94-2.06-.94 2.06-2.06.94zm-11 1L8.5 8.5l.94-2.06 2.06-.94-2.06-.94L8.5 2.5l-.94 2.06-2.06.94zm10 10l.94 2.06.94-2.06 2.06-.94-2.06-.94-.94-2.06-.94 2.06-2.06.94z\"/><path d=\"M17.41 7.96l-1.37-1.37c-.4-.4-.92-.59-1.43-.59-.52 0-1.04.2-1.43.59L10.3 9.45l-7.72 7.72c-.78.78-.78 2.05 0 2.83L4 21.41c.39.39.9.59 1.41.59.51 0 1.02-.2 1.41-.59l7.78-7.78 2.81-2.81c.8-.78.8-2.07 0-2.86zM5.41 20L4 18.59l7.72-7.72 1.47 1.35L5.41 20z\"/>\n",
              "  </svg>\n",
              "      </button>\n",
              "      \n",
              "  <style>\n",
              "    .colab-df-container {\n",
              "      display:flex;\n",
              "      flex-wrap:wrap;\n",
              "      gap: 12px;\n",
              "    }\n",
              "\n",
              "    .colab-df-convert {\n",
              "      background-color: #E8F0FE;\n",
              "      border: none;\n",
              "      border-radius: 50%;\n",
              "      cursor: pointer;\n",
              "      display: none;\n",
              "      fill: #1967D2;\n",
              "      height: 32px;\n",
              "      padding: 0 0 0 0;\n",
              "      width: 32px;\n",
              "    }\n",
              "\n",
              "    .colab-df-convert:hover {\n",
              "      background-color: #E2EBFA;\n",
              "      box-shadow: 0px 1px 2px rgba(60, 64, 67, 0.3), 0px 1px 3px 1px rgba(60, 64, 67, 0.15);\n",
              "      fill: #174EA6;\n",
              "    }\n",
              "\n",
              "    [theme=dark] .colab-df-convert {\n",
              "      background-color: #3B4455;\n",
              "      fill: #D2E3FC;\n",
              "    }\n",
              "\n",
              "    [theme=dark] .colab-df-convert:hover {\n",
              "      background-color: #434B5C;\n",
              "      box-shadow: 0px 1px 3px 1px rgba(0, 0, 0, 0.15);\n",
              "      filter: drop-shadow(0px 1px 2px rgba(0, 0, 0, 0.3));\n",
              "      fill: #FFFFFF;\n",
              "    }\n",
              "  </style>\n",
              "\n",
              "      <script>\n",
              "        const buttonEl =\n",
              "          document.querySelector('#df-fa048aef-b9ae-45c8-80d2-e73f150b9d58 button.colab-df-convert');\n",
              "        buttonEl.style.display =\n",
              "          google.colab.kernel.accessAllowed ? 'block' : 'none';\n",
              "\n",
              "        async function convertToInteractive(key) {\n",
              "          const element = document.querySelector('#df-fa048aef-b9ae-45c8-80d2-e73f150b9d58');\n",
              "          const dataTable =\n",
              "            await google.colab.kernel.invokeFunction('convertToInteractive',\n",
              "                                                     [key], {});\n",
              "          if (!dataTable) return;\n",
              "\n",
              "          const docLinkHtml = 'Like what you see? Visit the ' +\n",
              "            '<a target=\"_blank\" href=https://colab.research.google.com/notebooks/data_table.ipynb>data table notebook</a>'\n",
              "            + ' to learn more about interactive tables.';\n",
              "          element.innerHTML = '';\n",
              "          dataTable['output_type'] = 'display_data';\n",
              "          await google.colab.output.renderOutput(dataTable, element);\n",
              "          const docLink = document.createElement('div');\n",
              "          docLink.innerHTML = docLinkHtml;\n",
              "          element.appendChild(docLink);\n",
              "        }\n",
              "      </script>\n",
              "    </div>\n",
              "  </div>\n",
              "  "
            ]
          },
          "metadata": {},
          "execution_count": 193
        }
      ]
    },
    {
      "cell_type": "markdown",
      "source": [
        "##### 5.- En un salón de clases se encuentran 20 estudiantes. Se requiere comparar Horas de estudio en un día anterior a un examen con la calificación que se obtiene en el examen. Registra tus datos (que inventarás) en un diccionario y crea un DataFrame a partir del diccionario. Usando algún método en Pandas, da una descripción estadística de los datos anteriores."
      ],
      "metadata": {
        "id": "w7nolser9FOr"
      }
    },
    {
      "cell_type": "code",
      "source": [
        "import pandas as pd "
      ],
      "metadata": {
        "id": "sZOFeDSN13c0"
      },
      "execution_count": null,
      "outputs": []
    },
    {
      "cell_type": "code",
      "source": [
        "Estudiantes = {\"DIEGO\": [4,10], \n",
        "               \"ANDREA\": [3, 9.5],\n",
        "               \"LORENZO\": [2,9],\n",
        "               \"EMILIA\": [3,9],\n",
        "               \"SAUL\": [2,8],\n",
        "               \"JOSHUA\": [1,9.5],\n",
        "               \"MAJO\": [2, 8],\n",
        "               \"YAHIS\": [2,8.5], \n",
        "               \"DANIELA\": [1,7.5],\n",
        "               \"JAVIER\": [2, 8],\n",
        "               \"TAVO\": [1,7.5],\n",
        "               \"JUALIANA\":[2,7.5],\n",
        "               \"CAMILA\": [2,8.5],\n",
        "               \"ARANTZA\": [1,6.5],\n",
        "               \"BORIS\": [2, 7.5],\n",
        "               \"LILIANA\": [2, 8.5],\n",
        "               \"KARLA\": [2, 9.5],\n",
        "               \"FERNANDO\": [2, 10], \n",
        "               \"JOAQUIN\": [1,7],\n",
        "               \"MARIANA\": [2,9.5]}"
      ],
      "metadata": {
        "id": "-gLlC9Z916QU"
      },
      "execution_count": null,
      "outputs": []
    },
    {
      "cell_type": "code",
      "source": [
        "len(Estudiantes)"
      ],
      "metadata": {
        "colab": {
          "base_uri": "https://localhost:8080/"
        },
        "id": "TmgL72c-4Epr",
        "outputId": "9bfe1f7c-ba65-4ae5-abd8-0bdae00a4ab7"
      },
      "execution_count": null,
      "outputs": [
        {
          "output_type": "execute_result",
          "data": {
            "text/plain": [
              "20"
            ]
          },
          "metadata": {},
          "execution_count": 196
        }
      ]
    },
    {
      "cell_type": "code",
      "source": [
        "index = [\"Horas de estudio\", \"Calificación\"]"
      ],
      "metadata": {
        "id": "GjReMfZs4Lku"
      },
      "execution_count": null,
      "outputs": []
    },
    {
      "cell_type": "code",
      "source": [
        "dfestud = pd.DataFrame(Estudiantes, index = index)\n",
        "dfestud"
      ],
      "metadata": {
        "colab": {
          "base_uri": "https://localhost:8080/",
          "height": 150
        },
        "id": "Wi_HFh_U4Ts8",
        "outputId": "5a2c5a32-daa0-4fa8-c642-8c078c8d9916"
      },
      "execution_count": null,
      "outputs": [
        {
          "output_type": "execute_result",
          "data": {
            "text/plain": [
              "                  DIEGO  ANDREA  LORENZO  EMILIA  SAUL  JOSHUA  MAJO  YAHIS  \\\n",
              "Horas de estudio      4     3.0        2       3     2     1.0     2    2.0   \n",
              "Calificación         10     9.5        9       9     8     9.5     8    8.5   \n",
              "\n",
              "                  DANIELA  JAVIER  TAVO  JUALIANA  CAMILA  ARANTZA  BORIS  \\\n",
              "Horas de estudio      1.0       2   1.0       2.0     2.0      1.0    2.0   \n",
              "Calificación          7.5       8   7.5       7.5     8.5      6.5    7.5   \n",
              "\n",
              "                  LILIANA  KARLA  FERNANDO  JOAQUIN  MARIANA  \n",
              "Horas de estudio      2.0    2.0         2        1      2.0  \n",
              "Calificación          8.5    9.5        10        7      9.5  "
            ],
            "text/html": [
              "\n",
              "  <div id=\"df-3492c51d-89be-4da6-9877-868c3b252c42\">\n",
              "    <div class=\"colab-df-container\">\n",
              "      <div>\n",
              "<style scoped>\n",
              "    .dataframe tbody tr th:only-of-type {\n",
              "        vertical-align: middle;\n",
              "    }\n",
              "\n",
              "    .dataframe tbody tr th {\n",
              "        vertical-align: top;\n",
              "    }\n",
              "\n",
              "    .dataframe thead th {\n",
              "        text-align: right;\n",
              "    }\n",
              "</style>\n",
              "<table border=\"1\" class=\"dataframe\">\n",
              "  <thead>\n",
              "    <tr style=\"text-align: right;\">\n",
              "      <th></th>\n",
              "      <th>DIEGO</th>\n",
              "      <th>ANDREA</th>\n",
              "      <th>LORENZO</th>\n",
              "      <th>EMILIA</th>\n",
              "      <th>SAUL</th>\n",
              "      <th>JOSHUA</th>\n",
              "      <th>MAJO</th>\n",
              "      <th>YAHIS</th>\n",
              "      <th>DANIELA</th>\n",
              "      <th>JAVIER</th>\n",
              "      <th>TAVO</th>\n",
              "      <th>JUALIANA</th>\n",
              "      <th>CAMILA</th>\n",
              "      <th>ARANTZA</th>\n",
              "      <th>BORIS</th>\n",
              "      <th>LILIANA</th>\n",
              "      <th>KARLA</th>\n",
              "      <th>FERNANDO</th>\n",
              "      <th>JOAQUIN</th>\n",
              "      <th>MARIANA</th>\n",
              "    </tr>\n",
              "  </thead>\n",
              "  <tbody>\n",
              "    <tr>\n",
              "      <th>Horas de estudio</th>\n",
              "      <td>4</td>\n",
              "      <td>3.0</td>\n",
              "      <td>2</td>\n",
              "      <td>3</td>\n",
              "      <td>2</td>\n",
              "      <td>1.0</td>\n",
              "      <td>2</td>\n",
              "      <td>2.0</td>\n",
              "      <td>1.0</td>\n",
              "      <td>2</td>\n",
              "      <td>1.0</td>\n",
              "      <td>2.0</td>\n",
              "      <td>2.0</td>\n",
              "      <td>1.0</td>\n",
              "      <td>2.0</td>\n",
              "      <td>2.0</td>\n",
              "      <td>2.0</td>\n",
              "      <td>2</td>\n",
              "      <td>1</td>\n",
              "      <td>2.0</td>\n",
              "    </tr>\n",
              "    <tr>\n",
              "      <th>Calificación</th>\n",
              "      <td>10</td>\n",
              "      <td>9.5</td>\n",
              "      <td>9</td>\n",
              "      <td>9</td>\n",
              "      <td>8</td>\n",
              "      <td>9.5</td>\n",
              "      <td>8</td>\n",
              "      <td>8.5</td>\n",
              "      <td>7.5</td>\n",
              "      <td>8</td>\n",
              "      <td>7.5</td>\n",
              "      <td>7.5</td>\n",
              "      <td>8.5</td>\n",
              "      <td>6.5</td>\n",
              "      <td>7.5</td>\n",
              "      <td>8.5</td>\n",
              "      <td>9.5</td>\n",
              "      <td>10</td>\n",
              "      <td>7</td>\n",
              "      <td>9.5</td>\n",
              "    </tr>\n",
              "  </tbody>\n",
              "</table>\n",
              "</div>\n",
              "      <button class=\"colab-df-convert\" onclick=\"convertToInteractive('df-3492c51d-89be-4da6-9877-868c3b252c42')\"\n",
              "              title=\"Convert this dataframe to an interactive table.\"\n",
              "              style=\"display:none;\">\n",
              "        \n",
              "  <svg xmlns=\"http://www.w3.org/2000/svg\" height=\"24px\"viewBox=\"0 0 24 24\"\n",
              "       width=\"24px\">\n",
              "    <path d=\"M0 0h24v24H0V0z\" fill=\"none\"/>\n",
              "    <path d=\"M18.56 5.44l.94 2.06.94-2.06 2.06-.94-2.06-.94-.94-2.06-.94 2.06-2.06.94zm-11 1L8.5 8.5l.94-2.06 2.06-.94-2.06-.94L8.5 2.5l-.94 2.06-2.06.94zm10 10l.94 2.06.94-2.06 2.06-.94-2.06-.94-.94-2.06-.94 2.06-2.06.94z\"/><path d=\"M17.41 7.96l-1.37-1.37c-.4-.4-.92-.59-1.43-.59-.52 0-1.04.2-1.43.59L10.3 9.45l-7.72 7.72c-.78.78-.78 2.05 0 2.83L4 21.41c.39.39.9.59 1.41.59.51 0 1.02-.2 1.41-.59l7.78-7.78 2.81-2.81c.8-.78.8-2.07 0-2.86zM5.41 20L4 18.59l7.72-7.72 1.47 1.35L5.41 20z\"/>\n",
              "  </svg>\n",
              "      </button>\n",
              "      \n",
              "  <style>\n",
              "    .colab-df-container {\n",
              "      display:flex;\n",
              "      flex-wrap:wrap;\n",
              "      gap: 12px;\n",
              "    }\n",
              "\n",
              "    .colab-df-convert {\n",
              "      background-color: #E8F0FE;\n",
              "      border: none;\n",
              "      border-radius: 50%;\n",
              "      cursor: pointer;\n",
              "      display: none;\n",
              "      fill: #1967D2;\n",
              "      height: 32px;\n",
              "      padding: 0 0 0 0;\n",
              "      width: 32px;\n",
              "    }\n",
              "\n",
              "    .colab-df-convert:hover {\n",
              "      background-color: #E2EBFA;\n",
              "      box-shadow: 0px 1px 2px rgba(60, 64, 67, 0.3), 0px 1px 3px 1px rgba(60, 64, 67, 0.15);\n",
              "      fill: #174EA6;\n",
              "    }\n",
              "\n",
              "    [theme=dark] .colab-df-convert {\n",
              "      background-color: #3B4455;\n",
              "      fill: #D2E3FC;\n",
              "    }\n",
              "\n",
              "    [theme=dark] .colab-df-convert:hover {\n",
              "      background-color: #434B5C;\n",
              "      box-shadow: 0px 1px 3px 1px rgba(0, 0, 0, 0.15);\n",
              "      filter: drop-shadow(0px 1px 2px rgba(0, 0, 0, 0.3));\n",
              "      fill: #FFFFFF;\n",
              "    }\n",
              "  </style>\n",
              "\n",
              "      <script>\n",
              "        const buttonEl =\n",
              "          document.querySelector('#df-3492c51d-89be-4da6-9877-868c3b252c42 button.colab-df-convert');\n",
              "        buttonEl.style.display =\n",
              "          google.colab.kernel.accessAllowed ? 'block' : 'none';\n",
              "\n",
              "        async function convertToInteractive(key) {\n",
              "          const element = document.querySelector('#df-3492c51d-89be-4da6-9877-868c3b252c42');\n",
              "          const dataTable =\n",
              "            await google.colab.kernel.invokeFunction('convertToInteractive',\n",
              "                                                     [key], {});\n",
              "          if (!dataTable) return;\n",
              "\n",
              "          const docLinkHtml = 'Like what you see? Visit the ' +\n",
              "            '<a target=\"_blank\" href=https://colab.research.google.com/notebooks/data_table.ipynb>data table notebook</a>'\n",
              "            + ' to learn more about interactive tables.';\n",
              "          element.innerHTML = '';\n",
              "          dataTable['output_type'] = 'display_data';\n",
              "          await google.colab.output.renderOutput(dataTable, element);\n",
              "          const docLink = document.createElement('div');\n",
              "          docLink.innerHTML = docLinkHtml;\n",
              "          element.appendChild(docLink);\n",
              "        }\n",
              "      </script>\n",
              "    </div>\n",
              "  </div>\n",
              "  "
            ]
          },
          "metadata": {},
          "execution_count": 198
        }
      ]
    },
    {
      "cell_type": "code",
      "source": [
        "dfestud.describe()"
      ],
      "metadata": {
        "colab": {
          "base_uri": "https://localhost:8080/",
          "height": 279
        },
        "id": "ijbAsWNq52bb",
        "outputId": "5ebbcd40-a9ab-4ecd-f8b8-07a594582985"
      },
      "execution_count": null,
      "outputs": [
        {
          "output_type": "execute_result",
          "data": {
            "text/plain": [
              "           DIEGO    ANDREA   LORENZO    EMILIA      SAUL    JOSHUA      MAJO  \\\n",
              "count   2.000000  2.000000  2.000000  2.000000  2.000000  2.000000  2.000000   \n",
              "mean    7.000000  6.250000  5.500000  6.000000  5.000000  5.250000  5.000000   \n",
              "std     4.242641  4.596194  4.949747  4.242641  4.242641  6.010408  4.242641   \n",
              "min     4.000000  3.000000  2.000000  3.000000  2.000000  1.000000  2.000000   \n",
              "25%     5.500000  4.625000  3.750000  4.500000  3.500000  3.125000  3.500000   \n",
              "50%     7.000000  6.250000  5.500000  6.000000  5.000000  5.250000  5.000000   \n",
              "75%     8.500000  7.875000  7.250000  7.500000  6.500000  7.375000  6.500000   \n",
              "max    10.000000  9.500000  9.000000  9.000000  8.000000  9.500000  8.000000   \n",
              "\n",
              "          YAHIS   DANIELA    JAVIER      TAVO  JUALIANA    CAMILA   ARANTZA  \\\n",
              "count  2.000000  2.000000  2.000000  2.000000  2.000000  2.000000  2.000000   \n",
              "mean   5.250000  4.250000  5.000000  4.250000  4.750000  5.250000  3.750000   \n",
              "std    4.596194  4.596194  4.242641  4.596194  3.889087  4.596194  3.889087   \n",
              "min    2.000000  1.000000  2.000000  1.000000  2.000000  2.000000  1.000000   \n",
              "25%    3.625000  2.625000  3.500000  2.625000  3.375000  3.625000  2.375000   \n",
              "50%    5.250000  4.250000  5.000000  4.250000  4.750000  5.250000  3.750000   \n",
              "75%    6.875000  5.875000  6.500000  5.875000  6.125000  6.875000  5.125000   \n",
              "max    8.500000  7.500000  8.000000  7.500000  7.500000  8.500000  6.500000   \n",
              "\n",
              "          BORIS   LILIANA     KARLA   FERNANDO   JOAQUIN   MARIANA  \n",
              "count  2.000000  2.000000  2.000000   2.000000  2.000000  2.000000  \n",
              "mean   4.750000  5.250000  5.750000   6.000000  4.000000  5.750000  \n",
              "std    3.889087  4.596194  5.303301   5.656854  4.242641  5.303301  \n",
              "min    2.000000  2.000000  2.000000   2.000000  1.000000  2.000000  \n",
              "25%    3.375000  3.625000  3.875000   4.000000  2.500000  3.875000  \n",
              "50%    4.750000  5.250000  5.750000   6.000000  4.000000  5.750000  \n",
              "75%    6.125000  6.875000  7.625000   8.000000  5.500000  7.625000  \n",
              "max    7.500000  8.500000  9.500000  10.000000  7.000000  9.500000  "
            ],
            "text/html": [
              "\n",
              "  <div id=\"df-1dbdea11-8925-47ac-9501-b81d0a82dceb\">\n",
              "    <div class=\"colab-df-container\">\n",
              "      <div>\n",
              "<style scoped>\n",
              "    .dataframe tbody tr th:only-of-type {\n",
              "        vertical-align: middle;\n",
              "    }\n",
              "\n",
              "    .dataframe tbody tr th {\n",
              "        vertical-align: top;\n",
              "    }\n",
              "\n",
              "    .dataframe thead th {\n",
              "        text-align: right;\n",
              "    }\n",
              "</style>\n",
              "<table border=\"1\" class=\"dataframe\">\n",
              "  <thead>\n",
              "    <tr style=\"text-align: right;\">\n",
              "      <th></th>\n",
              "      <th>DIEGO</th>\n",
              "      <th>ANDREA</th>\n",
              "      <th>LORENZO</th>\n",
              "      <th>EMILIA</th>\n",
              "      <th>SAUL</th>\n",
              "      <th>JOSHUA</th>\n",
              "      <th>MAJO</th>\n",
              "      <th>YAHIS</th>\n",
              "      <th>DANIELA</th>\n",
              "      <th>JAVIER</th>\n",
              "      <th>TAVO</th>\n",
              "      <th>JUALIANA</th>\n",
              "      <th>CAMILA</th>\n",
              "      <th>ARANTZA</th>\n",
              "      <th>BORIS</th>\n",
              "      <th>LILIANA</th>\n",
              "      <th>KARLA</th>\n",
              "      <th>FERNANDO</th>\n",
              "      <th>JOAQUIN</th>\n",
              "      <th>MARIANA</th>\n",
              "    </tr>\n",
              "  </thead>\n",
              "  <tbody>\n",
              "    <tr>\n",
              "      <th>count</th>\n",
              "      <td>2.000000</td>\n",
              "      <td>2.000000</td>\n",
              "      <td>2.000000</td>\n",
              "      <td>2.000000</td>\n",
              "      <td>2.000000</td>\n",
              "      <td>2.000000</td>\n",
              "      <td>2.000000</td>\n",
              "      <td>2.000000</td>\n",
              "      <td>2.000000</td>\n",
              "      <td>2.000000</td>\n",
              "      <td>2.000000</td>\n",
              "      <td>2.000000</td>\n",
              "      <td>2.000000</td>\n",
              "      <td>2.000000</td>\n",
              "      <td>2.000000</td>\n",
              "      <td>2.000000</td>\n",
              "      <td>2.000000</td>\n",
              "      <td>2.000000</td>\n",
              "      <td>2.000000</td>\n",
              "      <td>2.000000</td>\n",
              "    </tr>\n",
              "    <tr>\n",
              "      <th>mean</th>\n",
              "      <td>7.000000</td>\n",
              "      <td>6.250000</td>\n",
              "      <td>5.500000</td>\n",
              "      <td>6.000000</td>\n",
              "      <td>5.000000</td>\n",
              "      <td>5.250000</td>\n",
              "      <td>5.000000</td>\n",
              "      <td>5.250000</td>\n",
              "      <td>4.250000</td>\n",
              "      <td>5.000000</td>\n",
              "      <td>4.250000</td>\n",
              "      <td>4.750000</td>\n",
              "      <td>5.250000</td>\n",
              "      <td>3.750000</td>\n",
              "      <td>4.750000</td>\n",
              "      <td>5.250000</td>\n",
              "      <td>5.750000</td>\n",
              "      <td>6.000000</td>\n",
              "      <td>4.000000</td>\n",
              "      <td>5.750000</td>\n",
              "    </tr>\n",
              "    <tr>\n",
              "      <th>std</th>\n",
              "      <td>4.242641</td>\n",
              "      <td>4.596194</td>\n",
              "      <td>4.949747</td>\n",
              "      <td>4.242641</td>\n",
              "      <td>4.242641</td>\n",
              "      <td>6.010408</td>\n",
              "      <td>4.242641</td>\n",
              "      <td>4.596194</td>\n",
              "      <td>4.596194</td>\n",
              "      <td>4.242641</td>\n",
              "      <td>4.596194</td>\n",
              "      <td>3.889087</td>\n",
              "      <td>4.596194</td>\n",
              "      <td>3.889087</td>\n",
              "      <td>3.889087</td>\n",
              "      <td>4.596194</td>\n",
              "      <td>5.303301</td>\n",
              "      <td>5.656854</td>\n",
              "      <td>4.242641</td>\n",
              "      <td>5.303301</td>\n",
              "    </tr>\n",
              "    <tr>\n",
              "      <th>min</th>\n",
              "      <td>4.000000</td>\n",
              "      <td>3.000000</td>\n",
              "      <td>2.000000</td>\n",
              "      <td>3.000000</td>\n",
              "      <td>2.000000</td>\n",
              "      <td>1.000000</td>\n",
              "      <td>2.000000</td>\n",
              "      <td>2.000000</td>\n",
              "      <td>1.000000</td>\n",
              "      <td>2.000000</td>\n",
              "      <td>1.000000</td>\n",
              "      <td>2.000000</td>\n",
              "      <td>2.000000</td>\n",
              "      <td>1.000000</td>\n",
              "      <td>2.000000</td>\n",
              "      <td>2.000000</td>\n",
              "      <td>2.000000</td>\n",
              "      <td>2.000000</td>\n",
              "      <td>1.000000</td>\n",
              "      <td>2.000000</td>\n",
              "    </tr>\n",
              "    <tr>\n",
              "      <th>25%</th>\n",
              "      <td>5.500000</td>\n",
              "      <td>4.625000</td>\n",
              "      <td>3.750000</td>\n",
              "      <td>4.500000</td>\n",
              "      <td>3.500000</td>\n",
              "      <td>3.125000</td>\n",
              "      <td>3.500000</td>\n",
              "      <td>3.625000</td>\n",
              "      <td>2.625000</td>\n",
              "      <td>3.500000</td>\n",
              "      <td>2.625000</td>\n",
              "      <td>3.375000</td>\n",
              "      <td>3.625000</td>\n",
              "      <td>2.375000</td>\n",
              "      <td>3.375000</td>\n",
              "      <td>3.625000</td>\n",
              "      <td>3.875000</td>\n",
              "      <td>4.000000</td>\n",
              "      <td>2.500000</td>\n",
              "      <td>3.875000</td>\n",
              "    </tr>\n",
              "    <tr>\n",
              "      <th>50%</th>\n",
              "      <td>7.000000</td>\n",
              "      <td>6.250000</td>\n",
              "      <td>5.500000</td>\n",
              "      <td>6.000000</td>\n",
              "      <td>5.000000</td>\n",
              "      <td>5.250000</td>\n",
              "      <td>5.000000</td>\n",
              "      <td>5.250000</td>\n",
              "      <td>4.250000</td>\n",
              "      <td>5.000000</td>\n",
              "      <td>4.250000</td>\n",
              "      <td>4.750000</td>\n",
              "      <td>5.250000</td>\n",
              "      <td>3.750000</td>\n",
              "      <td>4.750000</td>\n",
              "      <td>5.250000</td>\n",
              "      <td>5.750000</td>\n",
              "      <td>6.000000</td>\n",
              "      <td>4.000000</td>\n",
              "      <td>5.750000</td>\n",
              "    </tr>\n",
              "    <tr>\n",
              "      <th>75%</th>\n",
              "      <td>8.500000</td>\n",
              "      <td>7.875000</td>\n",
              "      <td>7.250000</td>\n",
              "      <td>7.500000</td>\n",
              "      <td>6.500000</td>\n",
              "      <td>7.375000</td>\n",
              "      <td>6.500000</td>\n",
              "      <td>6.875000</td>\n",
              "      <td>5.875000</td>\n",
              "      <td>6.500000</td>\n",
              "      <td>5.875000</td>\n",
              "      <td>6.125000</td>\n",
              "      <td>6.875000</td>\n",
              "      <td>5.125000</td>\n",
              "      <td>6.125000</td>\n",
              "      <td>6.875000</td>\n",
              "      <td>7.625000</td>\n",
              "      <td>8.000000</td>\n",
              "      <td>5.500000</td>\n",
              "      <td>7.625000</td>\n",
              "    </tr>\n",
              "    <tr>\n",
              "      <th>max</th>\n",
              "      <td>10.000000</td>\n",
              "      <td>9.500000</td>\n",
              "      <td>9.000000</td>\n",
              "      <td>9.000000</td>\n",
              "      <td>8.000000</td>\n",
              "      <td>9.500000</td>\n",
              "      <td>8.000000</td>\n",
              "      <td>8.500000</td>\n",
              "      <td>7.500000</td>\n",
              "      <td>8.000000</td>\n",
              "      <td>7.500000</td>\n",
              "      <td>7.500000</td>\n",
              "      <td>8.500000</td>\n",
              "      <td>6.500000</td>\n",
              "      <td>7.500000</td>\n",
              "      <td>8.500000</td>\n",
              "      <td>9.500000</td>\n",
              "      <td>10.000000</td>\n",
              "      <td>7.000000</td>\n",
              "      <td>9.500000</td>\n",
              "    </tr>\n",
              "  </tbody>\n",
              "</table>\n",
              "</div>\n",
              "      <button class=\"colab-df-convert\" onclick=\"convertToInteractive('df-1dbdea11-8925-47ac-9501-b81d0a82dceb')\"\n",
              "              title=\"Convert this dataframe to an interactive table.\"\n",
              "              style=\"display:none;\">\n",
              "        \n",
              "  <svg xmlns=\"http://www.w3.org/2000/svg\" height=\"24px\"viewBox=\"0 0 24 24\"\n",
              "       width=\"24px\">\n",
              "    <path d=\"M0 0h24v24H0V0z\" fill=\"none\"/>\n",
              "    <path d=\"M18.56 5.44l.94 2.06.94-2.06 2.06-.94-2.06-.94-.94-2.06-.94 2.06-2.06.94zm-11 1L8.5 8.5l.94-2.06 2.06-.94-2.06-.94L8.5 2.5l-.94 2.06-2.06.94zm10 10l.94 2.06.94-2.06 2.06-.94-2.06-.94-.94-2.06-.94 2.06-2.06.94z\"/><path d=\"M17.41 7.96l-1.37-1.37c-.4-.4-.92-.59-1.43-.59-.52 0-1.04.2-1.43.59L10.3 9.45l-7.72 7.72c-.78.78-.78 2.05 0 2.83L4 21.41c.39.39.9.59 1.41.59.51 0 1.02-.2 1.41-.59l7.78-7.78 2.81-2.81c.8-.78.8-2.07 0-2.86zM5.41 20L4 18.59l7.72-7.72 1.47 1.35L5.41 20z\"/>\n",
              "  </svg>\n",
              "      </button>\n",
              "      \n",
              "  <style>\n",
              "    .colab-df-container {\n",
              "      display:flex;\n",
              "      flex-wrap:wrap;\n",
              "      gap: 12px;\n",
              "    }\n",
              "\n",
              "    .colab-df-convert {\n",
              "      background-color: #E8F0FE;\n",
              "      border: none;\n",
              "      border-radius: 50%;\n",
              "      cursor: pointer;\n",
              "      display: none;\n",
              "      fill: #1967D2;\n",
              "      height: 32px;\n",
              "      padding: 0 0 0 0;\n",
              "      width: 32px;\n",
              "    }\n",
              "\n",
              "    .colab-df-convert:hover {\n",
              "      background-color: #E2EBFA;\n",
              "      box-shadow: 0px 1px 2px rgba(60, 64, 67, 0.3), 0px 1px 3px 1px rgba(60, 64, 67, 0.15);\n",
              "      fill: #174EA6;\n",
              "    }\n",
              "\n",
              "    [theme=dark] .colab-df-convert {\n",
              "      background-color: #3B4455;\n",
              "      fill: #D2E3FC;\n",
              "    }\n",
              "\n",
              "    [theme=dark] .colab-df-convert:hover {\n",
              "      background-color: #434B5C;\n",
              "      box-shadow: 0px 1px 3px 1px rgba(0, 0, 0, 0.15);\n",
              "      filter: drop-shadow(0px 1px 2px rgba(0, 0, 0, 0.3));\n",
              "      fill: #FFFFFF;\n",
              "    }\n",
              "  </style>\n",
              "\n",
              "      <script>\n",
              "        const buttonEl =\n",
              "          document.querySelector('#df-1dbdea11-8925-47ac-9501-b81d0a82dceb button.colab-df-convert');\n",
              "        buttonEl.style.display =\n",
              "          google.colab.kernel.accessAllowed ? 'block' : 'none';\n",
              "\n",
              "        async function convertToInteractive(key) {\n",
              "          const element = document.querySelector('#df-1dbdea11-8925-47ac-9501-b81d0a82dceb');\n",
              "          const dataTable =\n",
              "            await google.colab.kernel.invokeFunction('convertToInteractive',\n",
              "                                                     [key], {});\n",
              "          if (!dataTable) return;\n",
              "\n",
              "          const docLinkHtml = 'Like what you see? Visit the ' +\n",
              "            '<a target=\"_blank\" href=https://colab.research.google.com/notebooks/data_table.ipynb>data table notebook</a>'\n",
              "            + ' to learn more about interactive tables.';\n",
              "          element.innerHTML = '';\n",
              "          dataTable['output_type'] = 'display_data';\n",
              "          await google.colab.output.renderOutput(dataTable, element);\n",
              "          const docLink = document.createElement('div');\n",
              "          docLink.innerHTML = docLinkHtml;\n",
              "          element.appendChild(docLink);\n",
              "        }\n",
              "      </script>\n",
              "    </div>\n",
              "  </div>\n",
              "  "
            ]
          },
          "metadata": {},
          "execution_count": 199
        }
      ]
    },
    {
      "cell_type": "code",
      "source": [
        "import seaborn as sns "
      ],
      "metadata": {
        "id": "35tnPWK75Bo8"
      },
      "execution_count": null,
      "outputs": []
    },
    {
      "cell_type": "code",
      "source": [
        "sns.distplot(dfestud);"
      ],
      "metadata": {
        "colab": {
          "base_uri": "https://localhost:8080/",
          "height": 320
        },
        "id": "I3zbW2Rg5Kmw",
        "outputId": "7357770b-f7a3-415f-c947-e3aec7080d55"
      },
      "execution_count": null,
      "outputs": [
        {
          "output_type": "stream",
          "name": "stderr",
          "text": [
            "/usr/local/lib/python3.7/dist-packages/seaborn/distributions.py:2619: FutureWarning: `distplot` is a deprecated function and will be removed in a future version. Please adapt your code to use either `displot` (a figure-level function with similar flexibility) or `histplot` (an axes-level function for histograms).\n",
            "  warnings.warn(msg, FutureWarning)\n"
          ]
        },
        {
          "output_type": "display_data",
          "data": {
            "text/plain": [
              "<Figure size 432x288 with 1 Axes>"
            ],
            "image/png": "[encoded data removed]"
          },
          "metadata": {
            "needs_background": "light"
          }
        }
      ]
    }
  ]
}